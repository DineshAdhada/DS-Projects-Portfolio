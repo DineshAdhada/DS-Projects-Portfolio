{
 "cells": [
  {
   "cell_type": "code",
   "execution_count": 76,
   "id": "c3f48888",
   "metadata": {},
   "outputs": [],
   "source": [
    "import pandas as pd"
   ]
  },
  {
   "cell_type": "code",
   "execution_count": 77,
   "id": "84fc3ae6",
   "metadata": {},
   "outputs": [
    {
     "name": "stdout",
     "output_type": "stream",
     "text": [
      "Requirement already satisfied: xlrd in d:\\data science qt\\qt\\python\\lib\\site-packages (2.0.1)Note: you may need to restart the kernel to use updated packages.\n",
      "\n"
     ]
    }
   ],
   "source": [
    "pip install xlrd\n"
   ]
  },
  {
   "cell_type": "code",
   "execution_count": 78,
   "id": "bbf5d4d3",
   "metadata": {},
   "outputs": [
    {
     "name": "stderr",
     "output_type": "stream",
     "text": [
      "<>:1: SyntaxWarning: invalid escape sequence '\\G'\n",
      "<>:1: SyntaxWarning: invalid escape sequence '\\G'\n",
      "C:\\Users\\User\\AppData\\Local\\Temp\\ipykernel_5720\\1723265031.py:1: SyntaxWarning: invalid escape sequence '\\G'\n",
      "  df=pd.read_excel(\"D:\\\\data science QT\\\\notes\\\\DataSets\\\\Global Superstore\\Global Superstore.xls\")\n"
     ]
    }
   ],
   "source": [
    "df=pd.read_excel(\"D:\\\\data science QT\\\\notes\\\\DataSets\\\\Global Superstore\\Global Superstore.xls\")"
   ]
  },
  {
   "cell_type": "code",
   "execution_count": 79,
   "id": "5ce10514",
   "metadata": {},
   "outputs": [
    {
     "data": {
      "text/plain": [
       "(51290, 24)"
      ]
     },
     "execution_count": 79,
     "metadata": {},
     "output_type": "execute_result"
    }
   ],
   "source": [
    "df.shape"
   ]
  },
  {
   "cell_type": "code",
   "execution_count": 80,
   "id": "559412c5",
   "metadata": {},
   "outputs": [
    {
     "data": {
      "text/plain": [
       "Index(['Row ID', 'Order ID', 'Order Date', 'Ship Date', 'Ship Mode',\n",
       "       'Customer ID', 'Customer Name', 'Segment', 'City', 'State', 'Country',\n",
       "       'Postal Code', 'Market', 'Region', 'Product ID', 'Category',\n",
       "       'Sub-Category', 'Product Name', 'Sales', 'Quantity', 'Discount',\n",
       "       'Profit', 'Shipping Cost', 'Order Priority'],\n",
       "      dtype='object')"
      ]
     },
     "execution_count": 80,
     "metadata": {},
     "output_type": "execute_result"
    }
   ],
   "source": [
    "df.columns"
   ]
  },
  {
   "cell_type": "code",
   "execution_count": 81,
   "id": "1904c606",
   "metadata": {},
   "outputs": [
    {
     "data": {
      "text/plain": [
       "Row ID                     int64\n",
       "Order ID                  object\n",
       "Order Date        datetime64[ns]\n",
       "Ship Date         datetime64[ns]\n",
       "Ship Mode                 object\n",
       "Customer ID               object\n",
       "Customer Name             object\n",
       "Segment                   object\n",
       "City                      object\n",
       "State                     object\n",
       "Country                   object\n",
       "Postal Code              float64\n",
       "Market                    object\n",
       "Region                    object\n",
       "Product ID                object\n",
       "Category                  object\n",
       "Sub-Category              object\n",
       "Product Name              object\n",
       "Sales                    float64\n",
       "Quantity                   int64\n",
       "Discount                 float64\n",
       "Profit                   float64\n",
       "Shipping Cost            float64\n",
       "Order Priority            object\n",
       "dtype: object"
      ]
     },
     "execution_count": 81,
     "metadata": {},
     "output_type": "execute_result"
    }
   ],
   "source": [
    "df.dtypes"
   ]
  },
  {
   "cell_type": "code",
   "execution_count": 82,
   "id": "2405910e",
   "metadata": {},
   "outputs": [
    {
     "name": "stdout",
     "output_type": "stream",
     "text": [
      "Requirement already satisfied: seaborn in d:\\data science qt\\qt\\python\\lib\\site-packages (0.13.2)\n",
      "Requirement already satisfied: numpy!=1.24.0,>=1.20 in d:\\data science qt\\qt\\python\\lib\\site-packages (from seaborn) (2.0.2)\n",
      "Requirement already satisfied: pandas>=1.2 in d:\\data science qt\\qt\\python\\lib\\site-packages (from seaborn) (2.2.3)\n",
      "Requirement already satisfied: matplotlib!=3.6.1,>=3.4 in d:\\data science qt\\qt\\python\\lib\\site-packages (from seaborn) (3.10.0)\n",
      "Requirement already satisfied: contourpy>=1.0.1 in d:\\data science qt\\qt\\python\\lib\\site-packages (from matplotlib!=3.6.1,>=3.4->seaborn) (1.3.1)\n",
      "Requirement already satisfied: cycler>=0.10 in d:\\data science qt\\qt\\python\\lib\\site-packages (from matplotlib!=3.6.1,>=3.4->seaborn) (0.12.1)\n",
      "Requirement already satisfied: fonttools>=4.22.0 in d:\\data science qt\\qt\\python\\lib\\site-packages (from matplotlib!=3.6.1,>=3.4->seaborn) (4.55.8)\n",
      "Requirement already satisfied: kiwisolver>=1.3.1 in d:\\data science qt\\qt\\python\\lib\\site-packages (from matplotlib!=3.6.1,>=3.4->seaborn) (1.4.8)\n",
      "Requirement already satisfied: packaging>=20.0 in c:\\users\\user\\appdata\\roaming\\python\\python312\\site-packages (from matplotlib!=3.6.1,>=3.4->seaborn) (24.2)\n",
      "Requirement already satisfied: pillow>=8 in d:\\data science qt\\qt\\python\\lib\\site-packages (from matplotlib!=3.6.1,>=3.4->seaborn) (11.1.0)\n",
      "Requirement already satisfied: pyparsing>=2.3.1 in d:\\data science qt\\qt\\python\\lib\\site-packages (from matplotlib!=3.6.1,>=3.4->seaborn) (3.2.1)\n",
      "Requirement already satisfied: python-dateutil>=2.7 in c:\\users\\user\\appdata\\roaming\\python\\python312\\site-packages (from matplotlib!=3.6.1,>=3.4->seaborn) (2.9.0.post0)\n",
      "Requirement already satisfied: pytz>=2020.1 in d:\\data science qt\\qt\\python\\lib\\site-packages (from pandas>=1.2->seaborn) (2025.1)\n",
      "Requirement already satisfied: tzdata>=2022.7 in d:\\data science qt\\qt\\python\\lib\\site-packages (from pandas>=1.2->seaborn) (2025.1)\n",
      "Requirement already satisfied: six>=1.5 in c:\\users\\user\\appdata\\roaming\\python\\python312\\site-packages (from python-dateutil>=2.7->matplotlib!=3.6.1,>=3.4->seaborn) (1.17.0)\n",
      "Note: you may need to restart the kernel to use updated packages.\n"
     ]
    }
   ],
   "source": [
    "pip install seaborn"
   ]
  },
  {
   "cell_type": "code",
   "execution_count": 83,
   "id": "ec7a663b",
   "metadata": {},
   "outputs": [],
   "source": [
    "from matplotlib import pyplot as plt\n",
    "from matplotlib import style\n",
    "import seaborn as sns\n",
    "%matplotlib inline"
   ]
  },
  {
   "cell_type": "markdown",
   "id": "27446b7a",
   "metadata": {},
   "source": [
    "# values outside interquartile range(25% to 75%) is called outlier"
   ]
  },
  {
   "cell_type": "code",
   "execution_count": 84,
   "id": "dffe5c39",
   "metadata": {},
   "outputs": [
    {
     "data": {
      "text/html": [
       "<div>\n",
       "<style scoped>\n",
       "    .dataframe tbody tr th:only-of-type {\n",
       "        vertical-align: middle;\n",
       "    }\n",
       "\n",
       "    .dataframe tbody tr th {\n",
       "        vertical-align: top;\n",
       "    }\n",
       "\n",
       "    .dataframe thead th {\n",
       "        text-align: right;\n",
       "    }\n",
       "</style>\n",
       "<table border=\"1\" class=\"dataframe\">\n",
       "  <thead>\n",
       "    <tr style=\"text-align: right;\">\n",
       "      <th></th>\n",
       "      <th>Row ID</th>\n",
       "      <th>Order Date</th>\n",
       "      <th>Ship Date</th>\n",
       "      <th>Postal Code</th>\n",
       "      <th>Sales</th>\n",
       "      <th>Quantity</th>\n",
       "      <th>Discount</th>\n",
       "      <th>Profit</th>\n",
       "      <th>Shipping Cost</th>\n",
       "    </tr>\n",
       "  </thead>\n",
       "  <tbody>\n",
       "    <tr>\n",
       "      <th>count</th>\n",
       "      <td>51290.00000</td>\n",
       "      <td>51290</td>\n",
       "      <td>51290</td>\n",
       "      <td>9994.000000</td>\n",
       "      <td>51290.000000</td>\n",
       "      <td>51290.000000</td>\n",
       "      <td>51290.000000</td>\n",
       "      <td>51290.000000</td>\n",
       "      <td>51290.000000</td>\n",
       "    </tr>\n",
       "    <tr>\n",
       "      <th>mean</th>\n",
       "      <td>25645.50000</td>\n",
       "      <td>2013-05-11 21:26:49.155781120</td>\n",
       "      <td>2013-05-15 20:42:42.745174528</td>\n",
       "      <td>55190.379428</td>\n",
       "      <td>246.490581</td>\n",
       "      <td>3.476545</td>\n",
       "      <td>0.142908</td>\n",
       "      <td>28.610982</td>\n",
       "      <td>26.375818</td>\n",
       "    </tr>\n",
       "    <tr>\n",
       "      <th>min</th>\n",
       "      <td>1.00000</td>\n",
       "      <td>2011-01-01 00:00:00</td>\n",
       "      <td>2011-01-03 00:00:00</td>\n",
       "      <td>1040.000000</td>\n",
       "      <td>0.444000</td>\n",
       "      <td>1.000000</td>\n",
       "      <td>0.000000</td>\n",
       "      <td>-6599.978000</td>\n",
       "      <td>0.002000</td>\n",
       "    </tr>\n",
       "    <tr>\n",
       "      <th>25%</th>\n",
       "      <td>12823.25000</td>\n",
       "      <td>2012-06-19 00:00:00</td>\n",
       "      <td>2012-06-23 00:00:00</td>\n",
       "      <td>23223.000000</td>\n",
       "      <td>30.758625</td>\n",
       "      <td>2.000000</td>\n",
       "      <td>0.000000</td>\n",
       "      <td>0.000000</td>\n",
       "      <td>2.610000</td>\n",
       "    </tr>\n",
       "    <tr>\n",
       "      <th>50%</th>\n",
       "      <td>25645.50000</td>\n",
       "      <td>2013-07-08 00:00:00</td>\n",
       "      <td>2013-07-12 00:00:00</td>\n",
       "      <td>56430.500000</td>\n",
       "      <td>85.053000</td>\n",
       "      <td>3.000000</td>\n",
       "      <td>0.000000</td>\n",
       "      <td>9.240000</td>\n",
       "      <td>7.790000</td>\n",
       "    </tr>\n",
       "    <tr>\n",
       "      <th>75%</th>\n",
       "      <td>38467.75000</td>\n",
       "      <td>2014-05-22 00:00:00</td>\n",
       "      <td>2014-05-26 00:00:00</td>\n",
       "      <td>90008.000000</td>\n",
       "      <td>251.053200</td>\n",
       "      <td>5.000000</td>\n",
       "      <td>0.200000</td>\n",
       "      <td>36.810000</td>\n",
       "      <td>24.450000</td>\n",
       "    </tr>\n",
       "    <tr>\n",
       "      <th>max</th>\n",
       "      <td>51290.00000</td>\n",
       "      <td>2014-12-31 00:00:00</td>\n",
       "      <td>2015-01-07 00:00:00</td>\n",
       "      <td>99301.000000</td>\n",
       "      <td>22638.480000</td>\n",
       "      <td>14.000000</td>\n",
       "      <td>0.850000</td>\n",
       "      <td>8399.976000</td>\n",
       "      <td>933.570000</td>\n",
       "    </tr>\n",
       "    <tr>\n",
       "      <th>std</th>\n",
       "      <td>14806.29199</td>\n",
       "      <td>NaN</td>\n",
       "      <td>NaN</td>\n",
       "      <td>32063.693350</td>\n",
       "      <td>487.565361</td>\n",
       "      <td>2.278766</td>\n",
       "      <td>0.212280</td>\n",
       "      <td>174.340972</td>\n",
       "      <td>57.296810</td>\n",
       "    </tr>\n",
       "  </tbody>\n",
       "</table>\n",
       "</div>"
      ],
      "text/plain": [
       "            Row ID                     Order Date  \\\n",
       "count  51290.00000                          51290   \n",
       "mean   25645.50000  2013-05-11 21:26:49.155781120   \n",
       "min        1.00000            2011-01-01 00:00:00   \n",
       "25%    12823.25000            2012-06-19 00:00:00   \n",
       "50%    25645.50000            2013-07-08 00:00:00   \n",
       "75%    38467.75000            2014-05-22 00:00:00   \n",
       "max    51290.00000            2014-12-31 00:00:00   \n",
       "std    14806.29199                            NaN   \n",
       "\n",
       "                           Ship Date   Postal Code         Sales  \\\n",
       "count                          51290   9994.000000  51290.000000   \n",
       "mean   2013-05-15 20:42:42.745174528  55190.379428    246.490581   \n",
       "min              2011-01-03 00:00:00   1040.000000      0.444000   \n",
       "25%              2012-06-23 00:00:00  23223.000000     30.758625   \n",
       "50%              2013-07-12 00:00:00  56430.500000     85.053000   \n",
       "75%              2014-05-26 00:00:00  90008.000000    251.053200   \n",
       "max              2015-01-07 00:00:00  99301.000000  22638.480000   \n",
       "std                              NaN  32063.693350    487.565361   \n",
       "\n",
       "           Quantity      Discount        Profit  Shipping Cost  \n",
       "count  51290.000000  51290.000000  51290.000000   51290.000000  \n",
       "mean       3.476545      0.142908     28.610982      26.375818  \n",
       "min        1.000000      0.000000  -6599.978000       0.002000  \n",
       "25%        2.000000      0.000000      0.000000       2.610000  \n",
       "50%        3.000000      0.000000      9.240000       7.790000  \n",
       "75%        5.000000      0.200000     36.810000      24.450000  \n",
       "max       14.000000      0.850000   8399.976000     933.570000  \n",
       "std        2.278766      0.212280    174.340972      57.296810  "
      ]
     },
     "execution_count": 84,
     "metadata": {},
     "output_type": "execute_result"
    }
   ],
   "source": [
    "df.describe()"
   ]
  },
  {
   "cell_type": "markdown",
   "id": "9151ea9f",
   "metadata": {},
   "source": [
    "# Outlier Treatment"
   ]
  },
  {
   "cell_type": "code",
   "execution_count": 85,
   "id": "6a6da68a",
   "metadata": {},
   "outputs": [
    {
     "data": {
      "text/plain": [
       "{'whiskers': [<matplotlib.lines.Line2D at 0x1648e6a0b30>,\n",
       "  <matplotlib.lines.Line2D at 0x1648e6a0e30>],\n",
       " 'caps': [<matplotlib.lines.Line2D at 0x1648e6a1100>,\n",
       "  <matplotlib.lines.Line2D at 0x1648e6a1400>],\n",
       " 'boxes': [<matplotlib.lines.Line2D at 0x16492b4afc0>],\n",
       " 'medians': [<matplotlib.lines.Line2D at 0x1648e6a1730>],\n",
       " 'fliers': [<matplotlib.lines.Line2D at 0x164881d8800>],\n",
       " 'means': []}"
      ]
     },
     "execution_count": 85,
     "metadata": {},
     "output_type": "execute_result"
    },
    {
     "data": {
      "image/png": "[encoded data removed]",
      "text/plain": [
       "<Figure size 640x480 with 1 Axes>"
      ]
     },
     "metadata": {},
     "output_type": "display_data"
    }
   ],
   "source": [
    "plt.boxplot(df[\"Profit\"])"
   ]
  },
  {
   "cell_type": "code",
   "execution_count": 86,
   "id": "8754cd71",
   "metadata": {},
   "outputs": [
    {
     "data": {
      "text/plain": [
       "0.10     -30.5712\n",
       "0.25       0.0000\n",
       "0.50       9.2400\n",
       "0.75      36.8100\n",
       "1.00    8399.9760\n",
       "Name: Profit, dtype: float64"
      ]
     },
     "execution_count": 86,
     "metadata": {},
     "output_type": "execute_result"
    }
   ],
   "source": [
    "df[\"Profit\"].quantile([0.1,0.25,0.5,0.75,1.0])"
   ]
  },
  {
   "cell_type": "code",
   "execution_count": 87,
   "id": "cbdbfe75",
   "metadata": {},
   "outputs": [
    {
     "data": {
      "text/plain": [
       "(51290, 24)"
      ]
     },
     "execution_count": 87,
     "metadata": {},
     "output_type": "execute_result"
    }
   ],
   "source": [
    "df.shape"
   ]
  },
  {
   "cell_type": "code",
   "execution_count": 88,
   "id": "3d156c22",
   "metadata": {},
   "outputs": [],
   "source": [
    "df_1=df[(df[\"Profit\"] >=0.0) & (df[\"Profit\"] <=36.8100)]"
   ]
  },
  {
   "cell_type": "code",
   "execution_count": 89,
   "id": "6b993f84",
   "metadata": {},
   "outputs": [
    {
     "data": {
      "text/plain": [
       "(25928, 24)"
      ]
     },
     "execution_count": 89,
     "metadata": {},
     "output_type": "execute_result"
    }
   ],
   "source": [
    "df_1.shape"
   ]
  },
  {
   "cell_type": "code",
   "execution_count": 90,
   "id": "99a91dcd",
   "metadata": {},
   "outputs": [
    {
     "data": {
      "text/plain": [
       "{'whiskers': [<matplotlib.lines.Line2D at 0x1648c996690>,\n",
       "  <matplotlib.lines.Line2D at 0x1648c975700>],\n",
       " 'caps': [<matplotlib.lines.Line2D at 0x1648c975be0>,\n",
       "  <matplotlib.lines.Line2D at 0x1648c976930>],\n",
       " 'boxes': [<matplotlib.lines.Line2D at 0x1648c9a8980>],\n",
       " 'medians': [<matplotlib.lines.Line2D at 0x1648c975730>],\n",
       " 'fliers': [<matplotlib.lines.Line2D at 0x1648c975e50>],\n",
       " 'means': []}"
      ]
     },
     "execution_count": 90,
     "metadata": {},
     "output_type": "execute_result"
    },
    {
     "data": {
      "image/png": "[encoded data removed]",
      "text/plain": [
       "<Figure size 640x480 with 1 Axes>"
      ]
     },
     "metadata": {},
     "output_type": "display_data"
    }
   ],
   "source": [
    "plt.boxplot(df_1[\"Profit\"])"
   ]
  },
  {
   "cell_type": "code",
   "execution_count": 91,
   "id": "7a1ef9a6",
   "metadata": {},
   "outputs": [
    {
     "data": {
      "text/plain": [
       "{'whiskers': [<matplotlib.lines.Line2D at 0x1648a7e96d0>,\n",
       "  <matplotlib.lines.Line2D at 0x164895f6c60>],\n",
       " 'caps': [<matplotlib.lines.Line2D at 0x164895f45c0>,\n",
       "  <matplotlib.lines.Line2D at 0x164895f4b90>],\n",
       " 'boxes': [<matplotlib.lines.Line2D at 0x1648a7eb1a0>],\n",
       " 'medians': [<matplotlib.lines.Line2D at 0x164895f4ad0>],\n",
       " 'fliers': [<matplotlib.lines.Line2D at 0x164895f4920>],\n",
       " 'means': []}"
      ]
     },
     "execution_count": 91,
     "metadata": {},
     "output_type": "execute_result"
    },
    {
     "data": {
      "image/png": "[encoded data removed]",
      "text/plain": [
       "<Figure size 640x480 with 1 Axes>"
      ]
     },
     "metadata": {},
     "output_type": "display_data"
    }
   ],
   "source": [
    "plt.boxplot(df_1[\"Sales\"])"
   ]
  },
  {
   "cell_type": "code",
   "execution_count": 92,
   "id": "03ab7b5c",
   "metadata": {},
   "outputs": [
    {
     "data": {
      "text/plain": [
       "0.10      12.54\n",
       "0.25      23.64\n",
       "0.50      48.78\n",
       "0.75      96.18\n",
       "1.00    3616.50\n",
       "Name: Sales, dtype: float64"
      ]
     },
     "execution_count": 92,
     "metadata": {},
     "output_type": "execute_result"
    }
   ],
   "source": [
    "df_1[\"Sales\"].quantile([0.1,0.25,0.5,0.75,1.0])"
   ]
  },
  {
   "cell_type": "code",
   "execution_count": 93,
   "id": "a93d8a8d",
   "metadata": {},
   "outputs": [],
   "source": [
    "df_2=df_1[(df_1[\"Sales\"] >=23.64) & (df_1[\"Sales\"] <=96.18)]"
   ]
  },
  {
   "cell_type": "code",
   "execution_count": 94,
   "id": "e3ccb4a4",
   "metadata": {},
   "outputs": [
    {
     "data": {
      "text/plain": [
       "(12977, 24)"
      ]
     },
     "execution_count": 94,
     "metadata": {},
     "output_type": "execute_result"
    }
   ],
   "source": [
    "df_2.shape"
   ]
  },
  {
   "cell_type": "code",
   "execution_count": 95,
   "id": "c921eeb8",
   "metadata": {},
   "outputs": [
    {
     "data": {
      "text/plain": [
       "{'whiskers': [<matplotlib.lines.Line2D at 0x164e94ab980>,\n",
       "  <matplotlib.lines.Line2D at 0x1648c787710>],\n",
       " 'caps': [<matplotlib.lines.Line2D at 0x1648ca105c0>,\n",
       "  <matplotlib.lines.Line2D at 0x1648ca10440>],\n",
       " 'boxes': [<matplotlib.lines.Line2D at 0x164e94aad80>],\n",
       " 'medians': [<matplotlib.lines.Line2D at 0x1648ca124b0>],\n",
       " 'fliers': [<matplotlib.lines.Line2D at 0x1648ca13e90>],\n",
       " 'means': []}"
      ]
     },
     "execution_count": 95,
     "metadata": {},
     "output_type": "execute_result"
    },
    {
     "data": {
      "image/png": "[encoded data removed]",
      "text/plain": [
       "<Figure size 640x480 with 1 Axes>"
      ]
     },
     "metadata": {},
     "output_type": "display_data"
    }
   ],
   "source": [
    "plt.boxplot(df_2[\"Sales\"])"
   ]
  },
  {
   "cell_type": "code",
   "execution_count": 96,
   "id": "38438600",
   "metadata": {},
   "outputs": [
    {
     "data": {
      "text/plain": [
       "{'whiskers': [<matplotlib.lines.Line2D at 0x1648c9fea20>,\n",
       "  <matplotlib.lines.Line2D at 0x1648c9fc9e0>],\n",
       " 'caps': [<matplotlib.lines.Line2D at 0x1648c9fe330>,\n",
       "  <matplotlib.lines.Line2D at 0x1648c9fc1d0>],\n",
       " 'boxes': [<matplotlib.lines.Line2D at 0x1648c9fc4a0>],\n",
       " 'medians': [<matplotlib.lines.Line2D at 0x1648c3ea300>],\n",
       " 'fliers': [<matplotlib.lines.Line2D at 0x1648c3e8740>],\n",
       " 'means': []}"
      ]
     },
     "execution_count": 96,
     "metadata": {},
     "output_type": "execute_result"
    },
    {
     "data": {
      "image/png": "[encoded data removed]",
      "text/plain": [
       "<Figure size 640x480 with 1 Axes>"
      ]
     },
     "metadata": {},
     "output_type": "display_data"
    }
   ],
   "source": [
    "plt.boxplot(df_2[\"Quantity\"])"
   ]
  },
  {
   "cell_type": "code",
   "execution_count": 97,
   "id": "285fa8df",
   "metadata": {},
   "outputs": [
    {
     "data": {
      "text/plain": [
       "0.10     1.0\n",
       "0.25     2.0\n",
       "0.50     3.0\n",
       "0.75     4.0\n",
       "1.00    14.0\n",
       "Name: Quantity, dtype: float64"
      ]
     },
     "execution_count": 97,
     "metadata": {},
     "output_type": "execute_result"
    }
   ],
   "source": [
    "df_2[\"Quantity\"].quantile([0.1,0.25,0.5,0.75,1.0])"
   ]
  },
  {
   "cell_type": "code",
   "execution_count": 98,
   "id": "39efa281",
   "metadata": {},
   "outputs": [],
   "source": [
    "df_3=df_2[(df_2[\"Quantity\"] >=2.0) & (df_2[\"Quantity\"] <=4.0)]"
   ]
  },
  {
   "cell_type": "code",
   "execution_count": 99,
   "id": "1d4468b7",
   "metadata": {},
   "outputs": [
    {
     "data": {
      "text/plain": [
       "(7906, 24)"
      ]
     },
     "execution_count": 99,
     "metadata": {},
     "output_type": "execute_result"
    }
   ],
   "source": [
    "df_3.shape"
   ]
  },
  {
   "cell_type": "code",
   "execution_count": 100,
   "id": "493231b0",
   "metadata": {},
   "outputs": [
    {
     "data": {
      "text/plain": [
       "{'whiskers': [<matplotlib.lines.Line2D at 0x164e94a5310>,\n",
       "  <matplotlib.lines.Line2D at 0x164e94a47d0>],\n",
       " 'caps': [<matplotlib.lines.Line2D at 0x1648c3e9b80>,\n",
       "  <matplotlib.lines.Line2D at 0x1648c3e9d00>],\n",
       " 'boxes': [<matplotlib.lines.Line2D at 0x164e94a75f0>],\n",
       " 'medians': [<matplotlib.lines.Line2D at 0x1648c91e330>],\n",
       " 'fliers': [<matplotlib.lines.Line2D at 0x1648c91c8f0>],\n",
       " 'means': []}"
      ]
     },
     "execution_count": 100,
     "metadata": {},
     "output_type": "execute_result"
    },
    {
     "data": {
      "image/png": "[encoded data removed]",
      "text/plain": [
       "<Figure size 640x480 with 1 Axes>"
      ]
     },
     "metadata": {},
     "output_type": "display_data"
    }
   ],
   "source": [
    "plt.boxplot(df_3[\"Quantity\"])"
   ]
  },
  {
   "cell_type": "code",
   "execution_count": 101,
   "id": "e64011f6",
   "metadata": {},
   "outputs": [
    {
     "data": {
      "text/plain": [
       "{'whiskers': [<matplotlib.lines.Line2D at 0x16492b49340>,\n",
       "  <matplotlib.lines.Line2D at 0x16492b495e0>],\n",
       " 'caps': [<matplotlib.lines.Line2D at 0x16492b498b0>,\n",
       "  <matplotlib.lines.Line2D at 0x16492b49af0>],\n",
       " 'boxes': [<matplotlib.lines.Line2D at 0x16492b49070>],\n",
       " 'medians': [<matplotlib.lines.Line2D at 0x16492b49e20>],\n",
       " 'fliers': [<matplotlib.lines.Line2D at 0x16492b4a090>],\n",
       " 'means': []}"
      ]
     },
     "execution_count": 101,
     "metadata": {},
     "output_type": "execute_result"
    },
    {
     "data": {
      "image/png": "[encoded data removed]",
      "text/plain": [
       "<Figure size 640x480 with 1 Axes>"
      ]
     },
     "metadata": {},
     "output_type": "display_data"
    }
   ],
   "source": [
    "plt.boxplot(df_3[\"Shipping Cost\"])"
   ]
  },
  {
   "cell_type": "code",
   "execution_count": 102,
   "id": "8aaad2a4",
   "metadata": {},
   "outputs": [
    {
     "data": {
      "text/plain": [
       "0.10     1.72000\n",
       "0.25     2.70000\n",
       "0.50     4.46100\n",
       "0.75     7.23675\n",
       "1.00    47.28000\n",
       "Name: Shipping Cost, dtype: float64"
      ]
     },
     "execution_count": 102,
     "metadata": {},
     "output_type": "execute_result"
    }
   ],
   "source": [
    "df_3[\"Shipping Cost\"].quantile([0.1,0.25,0.5,0.75,1.0])"
   ]
  },
  {
   "cell_type": "code",
   "execution_count": 103,
   "id": "771fef27",
   "metadata": {},
   "outputs": [],
   "source": [
    "df_4=df_3[(df_3[\"Shipping Cost\"] >=2.70) & (df_3[\"Shipping Cost\"] <=7.23675)]"
   ]
  },
  {
   "cell_type": "code",
   "execution_count": 104,
   "id": "13e6b0e7",
   "metadata": {},
   "outputs": [
    {
     "data": {
      "text/plain": [
       "(3953, 24)"
      ]
     },
     "execution_count": 104,
     "metadata": {},
     "output_type": "execute_result"
    }
   ],
   "source": [
    "df_4.shape"
   ]
  },
  {
   "cell_type": "code",
   "execution_count": 105,
   "id": "bbc3460f",
   "metadata": {},
   "outputs": [
    {
     "data": {
      "text/plain": [
       "{'whiskers': [<matplotlib.lines.Line2D at 0x16492b66ae0>,\n",
       "  <matplotlib.lines.Line2D at 0x16492b66db0>],\n",
       " 'caps': [<matplotlib.lines.Line2D at 0x16492b670b0>,\n",
       "  <matplotlib.lines.Line2D at 0x16492b673e0>],\n",
       " 'boxes': [<matplotlib.lines.Line2D at 0x16492b66870>],\n",
       " 'medians': [<matplotlib.lines.Line2D at 0x16492b676b0>],\n",
       " 'fliers': [<matplotlib.lines.Line2D at 0x16492b67980>],\n",
       " 'means': []}"
      ]
     },
     "execution_count": 105,
     "metadata": {},
     "output_type": "execute_result"
    },
    {
     "data": {
      "image/png": "[encoded data removed]",
      "text/plain": [
       "<Figure size 640x480 with 1 Axes>"
      ]
     },
     "metadata": {},
     "output_type": "display_data"
    }
   ],
   "source": [
    "plt.boxplot(df_4[\"Shipping Cost\"])"
   ]
  },
  {
   "cell_type": "code",
   "execution_count": 106,
   "id": "aa5680bd",
   "metadata": {},
   "outputs": [
    {
     "data": {
      "text/html": [
       "<div>\n",
       "<style scoped>\n",
       "    .dataframe tbody tr th:only-of-type {\n",
       "        vertical-align: middle;\n",
       "    }\n",
       "\n",
       "    .dataframe tbody tr th {\n",
       "        vertical-align: top;\n",
       "    }\n",
       "\n",
       "    .dataframe thead th {\n",
       "        text-align: right;\n",
       "    }\n",
       "</style>\n",
       "<table border=\"1\" class=\"dataframe\">\n",
       "  <thead>\n",
       "    <tr style=\"text-align: right;\">\n",
       "      <th></th>\n",
       "      <th>Row ID</th>\n",
       "      <th>Order ID</th>\n",
       "      <th>Order Date</th>\n",
       "      <th>Ship Date</th>\n",
       "      <th>Ship Mode</th>\n",
       "      <th>Customer ID</th>\n",
       "      <th>Customer Name</th>\n",
       "      <th>Segment</th>\n",
       "      <th>City</th>\n",
       "      <th>State</th>\n",
       "      <th>...</th>\n",
       "      <th>Product ID</th>\n",
       "      <th>Category</th>\n",
       "      <th>Sub-Category</th>\n",
       "      <th>Product Name</th>\n",
       "      <th>Sales</th>\n",
       "      <th>Quantity</th>\n",
       "      <th>Discount</th>\n",
       "      <th>Profit</th>\n",
       "      <th>Shipping Cost</th>\n",
       "      <th>Order Priority</th>\n",
       "    </tr>\n",
       "  </thead>\n",
       "  <tbody>\n",
       "    <tr>\n",
       "      <th>26583</th>\n",
       "      <td>10778</td>\n",
       "      <td>ES-2014-5617990</td>\n",
       "      <td>2014-09-11</td>\n",
       "      <td>2014-09-12</td>\n",
       "      <td>First Class</td>\n",
       "      <td>LW-16825</td>\n",
       "      <td>Laurel Workman</td>\n",
       "      <td>Corporate</td>\n",
       "      <td>Schiltigheim</td>\n",
       "      <td>Alsace</td>\n",
       "      <td>...</td>\n",
       "      <td>OFF-SU-10003160</td>\n",
       "      <td>Office Supplies</td>\n",
       "      <td>Supplies</td>\n",
       "      <td>Acme Ruler, High Speed</td>\n",
       "      <td>33.420</td>\n",
       "      <td>2</td>\n",
       "      <td>0.0</td>\n",
       "      <td>1.320</td>\n",
       "      <td>7.23</td>\n",
       "      <td>High</td>\n",
       "    </tr>\n",
       "    <tr>\n",
       "      <th>26584</th>\n",
       "      <td>17129</td>\n",
       "      <td>ES-2014-3096832</td>\n",
       "      <td>2014-07-04</td>\n",
       "      <td>2014-07-09</td>\n",
       "      <td>Standard Class</td>\n",
       "      <td>BW-11065</td>\n",
       "      <td>Barry Weirich</td>\n",
       "      <td>Consumer</td>\n",
       "      <td>Catania</td>\n",
       "      <td>Sicily</td>\n",
       "      <td>...</td>\n",
       "      <td>OFF-AR-10002145</td>\n",
       "      <td>Office Supplies</td>\n",
       "      <td>Art</td>\n",
       "      <td>Binney &amp; Smith Sketch Pad, Fluorescent</td>\n",
       "      <td>95.160</td>\n",
       "      <td>2</td>\n",
       "      <td>0.0</td>\n",
       "      <td>4.740</td>\n",
       "      <td>7.23</td>\n",
       "      <td>Medium</td>\n",
       "    </tr>\n",
       "    <tr>\n",
       "      <th>26586</th>\n",
       "      <td>21231</td>\n",
       "      <td>IN-2012-45951</td>\n",
       "      <td>2012-11-02</td>\n",
       "      <td>2012-11-06</td>\n",
       "      <td>Standard Class</td>\n",
       "      <td>JG-15115</td>\n",
       "      <td>Jack Garza</td>\n",
       "      <td>Consumer</td>\n",
       "      <td>Bhopal</td>\n",
       "      <td>Madhya Pradesh</td>\n",
       "      <td>...</td>\n",
       "      <td>OFF-EN-10000315</td>\n",
       "      <td>Office Supplies</td>\n",
       "      <td>Envelopes</td>\n",
       "      <td>Jiffy Business Envelopes, Security-Tint</td>\n",
       "      <td>47.880</td>\n",
       "      <td>3</td>\n",
       "      <td>0.0</td>\n",
       "      <td>9.090</td>\n",
       "      <td>7.23</td>\n",
       "      <td>High</td>\n",
       "    </tr>\n",
       "    <tr>\n",
       "      <th>26587</th>\n",
       "      <td>23945</td>\n",
       "      <td>IN-2012-40547</td>\n",
       "      <td>2012-11-29</td>\n",
       "      <td>2012-11-30</td>\n",
       "      <td>First Class</td>\n",
       "      <td>GT-14710</td>\n",
       "      <td>Greg Tran</td>\n",
       "      <td>Consumer</td>\n",
       "      <td>Adelaide</td>\n",
       "      <td>South Australia</td>\n",
       "      <td>...</td>\n",
       "      <td>OFF-BI-10004685</td>\n",
       "      <td>Office Supplies</td>\n",
       "      <td>Binders</td>\n",
       "      <td>Acco Binder, Economy</td>\n",
       "      <td>40.905</td>\n",
       "      <td>3</td>\n",
       "      <td>0.1</td>\n",
       "      <td>9.495</td>\n",
       "      <td>7.23</td>\n",
       "      <td>High</td>\n",
       "    </tr>\n",
       "    <tr>\n",
       "      <th>26594</th>\n",
       "      <td>31408</td>\n",
       "      <td>CA-2013-128867</td>\n",
       "      <td>2013-11-04</td>\n",
       "      <td>2013-11-11</td>\n",
       "      <td>Standard Class</td>\n",
       "      <td>CL-12565</td>\n",
       "      <td>Clay Ludtke</td>\n",
       "      <td>Consumer</td>\n",
       "      <td>Urbandale</td>\n",
       "      <td>Iowa</td>\n",
       "      <td>...</td>\n",
       "      <td>OFF-AR-10000380</td>\n",
       "      <td>Office Supplies</td>\n",
       "      <td>Art</td>\n",
       "      <td>Hunt PowerHouse Electric Pencil Sharpener, Blue</td>\n",
       "      <td>75.960</td>\n",
       "      <td>2</td>\n",
       "      <td>0.0</td>\n",
       "      <td>22.788</td>\n",
       "      <td>7.23</td>\n",
       "      <td>Medium</td>\n",
       "    </tr>\n",
       "  </tbody>\n",
       "</table>\n",
       "<p>5 rows × 24 columns</p>\n",
       "</div>"
      ],
      "text/plain": [
       "       Row ID         Order ID Order Date  Ship Date       Ship Mode  \\\n",
       "26583   10778  ES-2014-5617990 2014-09-11 2014-09-12     First Class   \n",
       "26584   17129  ES-2014-3096832 2014-07-04 2014-07-09  Standard Class   \n",
       "26586   21231    IN-2012-45951 2012-11-02 2012-11-06  Standard Class   \n",
       "26587   23945    IN-2012-40547 2012-11-29 2012-11-30     First Class   \n",
       "26594   31408   CA-2013-128867 2013-11-04 2013-11-11  Standard Class   \n",
       "\n",
       "      Customer ID   Customer Name    Segment          City            State  \\\n",
       "26583    LW-16825  Laurel Workman  Corporate  Schiltigheim           Alsace   \n",
       "26584    BW-11065   Barry Weirich   Consumer       Catania           Sicily   \n",
       "26586    JG-15115      Jack Garza   Consumer        Bhopal   Madhya Pradesh   \n",
       "26587    GT-14710       Greg Tran   Consumer      Adelaide  South Australia   \n",
       "26594    CL-12565     Clay Ludtke   Consumer     Urbandale             Iowa   \n",
       "\n",
       "       ...       Product ID         Category Sub-Category  \\\n",
       "26583  ...  OFF-SU-10003160  Office Supplies     Supplies   \n",
       "26584  ...  OFF-AR-10002145  Office Supplies          Art   \n",
       "26586  ...  OFF-EN-10000315  Office Supplies    Envelopes   \n",
       "26587  ...  OFF-BI-10004685  Office Supplies      Binders   \n",
       "26594  ...  OFF-AR-10000380  Office Supplies          Art   \n",
       "\n",
       "                                          Product Name   Sales Quantity  \\\n",
       "26583                           Acme Ruler, High Speed  33.420        2   \n",
       "26584           Binney & Smith Sketch Pad, Fluorescent  95.160        2   \n",
       "26586          Jiffy Business Envelopes, Security-Tint  47.880        3   \n",
       "26587                             Acco Binder, Economy  40.905        3   \n",
       "26594  Hunt PowerHouse Electric Pencil Sharpener, Blue  75.960        2   \n",
       "\n",
       "      Discount  Profit  Shipping Cost  Order Priority  \n",
       "26583      0.0   1.320           7.23            High  \n",
       "26584      0.0   4.740           7.23          Medium  \n",
       "26586      0.0   9.090           7.23            High  \n",
       "26587      0.1   9.495           7.23            High  \n",
       "26594      0.0  22.788           7.23          Medium  \n",
       "\n",
       "[5 rows x 24 columns]"
      ]
     },
     "execution_count": 106,
     "metadata": {},
     "output_type": "execute_result"
    }
   ],
   "source": [
    "df_4.head()"
   ]
  },
  {
   "cell_type": "markdown",
   "id": "e787ef67",
   "metadata": {},
   "source": [
    "1. boxplot => to identify outlier\n",
    "2. outlier => simple and effective IQR technique"
   ]
  },
  {
   "cell_type": "markdown",
   "id": "9106dce3",
   "metadata": {},
   "source": [
    "# Missing value imputations"
   ]
  },
  {
   "cell_type": "code",
   "execution_count": 107,
   "id": "d169901c",
   "metadata": {},
   "outputs": [
    {
     "data": {
      "text/plain": [
       "Row ID               0\n",
       "Order ID             0\n",
       "Order Date           0\n",
       "Ship Date            0\n",
       "Ship Mode            0\n",
       "Customer ID          0\n",
       "Customer Name        0\n",
       "Segment              0\n",
       "City                 0\n",
       "State                0\n",
       "Country              0\n",
       "Postal Code       3268\n",
       "Market               0\n",
       "Region               0\n",
       "Product ID           0\n",
       "Category             0\n",
       "Sub-Category         0\n",
       "Product Name         0\n",
       "Sales                0\n",
       "Quantity             0\n",
       "Discount             0\n",
       "Profit               0\n",
       "Shipping Cost        0\n",
       "Order Priority       0\n",
       "dtype: int64"
      ]
     },
     "execution_count": 107,
     "metadata": {},
     "output_type": "execute_result"
    }
   ],
   "source": [
    "df_4.isnull().sum()"
   ]
  },
  {
   "cell_type": "code",
   "execution_count": 108,
   "id": "72f36130",
   "metadata": {},
   "outputs": [
    {
     "name": "stderr",
     "output_type": "stream",
     "text": [
      "C:\\Users\\User\\AppData\\Local\\Temp\\ipykernel_5720\\3596599742.py:1: SettingWithCopyWarning: \n",
      "A value is trying to be set on a copy of a slice from a DataFrame\n",
      "\n",
      "See the caveats in the documentation: https://pandas.pydata.org/pandas-docs/stable/user_guide/indexing.html#returning-a-view-versus-a-copy\n",
      "  df_4.drop([\"Postal Code\"],axis=1,inplace=True)\n"
     ]
    }
   ],
   "source": [
    "df_4.drop([\"Postal Code\"],axis=1,inplace=True)"
   ]
  },
  {
   "cell_type": "code",
   "execution_count": 109,
   "id": "7fa56329",
   "metadata": {},
   "outputs": [
    {
     "data": {
      "text/plain": [
       "Row ID            0\n",
       "Order ID          0\n",
       "Order Date        0\n",
       "Ship Date         0\n",
       "Ship Mode         0\n",
       "Customer ID       0\n",
       "Customer Name     0\n",
       "Segment           0\n",
       "City              0\n",
       "State             0\n",
       "Country           0\n",
       "Market            0\n",
       "Region            0\n",
       "Product ID        0\n",
       "Category          0\n",
       "Sub-Category      0\n",
       "Product Name      0\n",
       "Sales             0\n",
       "Quantity          0\n",
       "Discount          0\n",
       "Profit            0\n",
       "Shipping Cost     0\n",
       "Order Priority    0\n",
       "dtype: int64"
      ]
     },
     "execution_count": 109,
     "metadata": {},
     "output_type": "execute_result"
    }
   ],
   "source": [
    "df_4.isnull().sum()"
   ]
  },
  {
   "cell_type": "code",
   "execution_count": 110,
   "id": "d794f063",
   "metadata": {},
   "outputs": [],
   "source": [
    "import numpy as np"
   ]
  },
  {
   "cell_type": "code",
   "execution_count": 111,
   "id": "87c6ce2c",
   "metadata": {},
   "outputs": [],
   "source": [
    "df4_num=df_4.select_dtypes(include=[np.number])"
   ]
  },
  {
   "cell_type": "code",
   "execution_count": 112,
   "id": "d8361211",
   "metadata": {},
   "outputs": [],
   "source": [
    "df4_cat=df_4.select_dtypes(include=[\"object\"])"
   ]
  },
  {
   "cell_type": "code",
   "execution_count": 113,
   "id": "d433abfa",
   "metadata": {},
   "outputs": [
    {
     "data": {
      "text/plain": [
       "Index(['Row ID', 'Sales', 'Quantity', 'Discount', 'Profit', 'Shipping Cost'], dtype='object')"
      ]
     },
     "execution_count": 113,
     "metadata": {},
     "output_type": "execute_result"
    }
   ],
   "source": [
    "df4_num.columns"
   ]
  },
  {
   "cell_type": "code",
   "execution_count": 114,
   "id": "91515ca9",
   "metadata": {},
   "outputs": [
    {
     "data": {
      "text/plain": [
       "Index(['Order ID', 'Ship Mode', 'Customer ID', 'Customer Name', 'Segment',\n",
       "       'City', 'State', 'Country', 'Market', 'Region', 'Product ID',\n",
       "       'Category', 'Sub-Category', 'Product Name', 'Order Priority'],\n",
       "      dtype='object')"
      ]
     },
     "execution_count": 114,
     "metadata": {},
     "output_type": "execute_result"
    }
   ],
   "source": [
    "df4_cat.columns"
   ]
  },
  {
   "cell_type": "markdown",
   "id": "6af6ccd8",
   "metadata": {},
   "source": [
    "# encoding, scaling"
   ]
  },
  {
   "cell_type": "code",
   "execution_count": 115,
   "id": "cc4dc876",
   "metadata": {},
   "outputs": [],
   "source": [
    "df4_num.drop(['Row ID'],axis=1,inplace=True)"
   ]
  },
  {
   "cell_type": "code",
   "execution_count": 116,
   "id": "da61919e",
   "metadata": {},
   "outputs": [],
   "source": [
    "from sklearn import preprocessing"
   ]
  },
  {
   "cell_type": "code",
   "execution_count": 117,
   "id": "2ffbb895",
   "metadata": {},
   "outputs": [],
   "source": [
    "le=preprocessing.LabelEncoder()"
   ]
  },
  {
   "cell_type": "code",
   "execution_count": 118,
   "id": "63330a3c",
   "metadata": {},
   "outputs": [],
   "source": [
    "mm_scaler = preprocessing.MinMaxScaler()"
   ]
  },
  {
   "cell_type": "code",
   "execution_count": 119,
   "id": "5f93e52e",
   "metadata": {},
   "outputs": [],
   "source": [
    "df4_cat_e =df4_cat.apply(le.fit_transform)"
   ]
  },
  {
   "cell_type": "code",
   "execution_count": 120,
   "id": "f0488a67",
   "metadata": {},
   "outputs": [
    {
     "data": {
      "text/plain": [
       "Index(['Sales', 'Quantity', 'Discount', 'Profit', 'Shipping Cost'], dtype='object')"
      ]
     },
     "execution_count": 120,
     "metadata": {},
     "output_type": "execute_result"
    }
   ],
   "source": [
    "df4_num.columns"
   ]
  },
  {
   "cell_type": "code",
   "execution_count": 121,
   "id": "60714ecb",
   "metadata": {},
   "outputs": [],
   "source": [
    "df4_num_mm =mm_scaler.fit_transform(df4_num)"
   ]
  },
  {
   "cell_type": "code",
   "execution_count": 122,
   "id": "f2b3a707",
   "metadata": {},
   "outputs": [],
   "source": [
    "df4_num_mm_sc=pd.DataFrame(df4_num_mm)"
   ]
  },
  {
   "cell_type": "code",
   "execution_count": 123,
   "id": "9dbbcc4f",
   "metadata": {},
   "outputs": [
    {
     "data": {
      "text/html": [
       "<div>\n",
       "<style scoped>\n",
       "    .dataframe tbody tr th:only-of-type {\n",
       "        vertical-align: middle;\n",
       "    }\n",
       "\n",
       "    .dataframe tbody tr th {\n",
       "        vertical-align: top;\n",
       "    }\n",
       "\n",
       "    .dataframe thead th {\n",
       "        text-align: right;\n",
       "    }\n",
       "</style>\n",
       "<table border=\"1\" class=\"dataframe\">\n",
       "  <thead>\n",
       "    <tr style=\"text-align: right;\">\n",
       "      <th></th>\n",
       "      <th>0</th>\n",
       "      <th>1</th>\n",
       "      <th>2</th>\n",
       "      <th>3</th>\n",
       "      <th>4</th>\n",
       "    </tr>\n",
       "  </thead>\n",
       "  <tbody>\n",
       "    <tr>\n",
       "      <th>0</th>\n",
       "      <td>0.134822</td>\n",
       "      <td>0.0</td>\n",
       "      <td>0.0</td>\n",
       "      <td>0.035948</td>\n",
       "      <td>1.0</td>\n",
       "    </tr>\n",
       "    <tr>\n",
       "      <th>1</th>\n",
       "      <td>0.985939</td>\n",
       "      <td>0.0</td>\n",
       "      <td>0.0</td>\n",
       "      <td>0.129085</td>\n",
       "      <td>1.0</td>\n",
       "    </tr>\n",
       "    <tr>\n",
       "      <th>2</th>\n",
       "      <td>0.334160</td>\n",
       "      <td>0.5</td>\n",
       "      <td>0.0</td>\n",
       "      <td>0.247549</td>\n",
       "      <td>1.0</td>\n",
       "    </tr>\n",
       "    <tr>\n",
       "      <th>3</th>\n",
       "      <td>0.238007</td>\n",
       "      <td>0.5</td>\n",
       "      <td>0.2</td>\n",
       "      <td>0.258578</td>\n",
       "      <td>1.0</td>\n",
       "    </tr>\n",
       "    <tr>\n",
       "      <th>4</th>\n",
       "      <td>0.721257</td>\n",
       "      <td>0.0</td>\n",
       "      <td>0.0</td>\n",
       "      <td>0.620588</td>\n",
       "      <td>1.0</td>\n",
       "    </tr>\n",
       "  </tbody>\n",
       "</table>\n",
       "</div>"
      ],
      "text/plain": [
       "          0    1    2         3    4\n",
       "0  0.134822  0.0  0.0  0.035948  1.0\n",
       "1  0.985939  0.0  0.0  0.129085  1.0\n",
       "2  0.334160  0.5  0.0  0.247549  1.0\n",
       "3  0.238007  0.5  0.2  0.258578  1.0\n",
       "4  0.721257  0.0  0.0  0.620588  1.0"
      ]
     },
     "execution_count": 123,
     "metadata": {},
     "output_type": "execute_result"
    }
   ],
   "source": [
    "df4_num_mm_sc.head()"
   ]
  },
  {
   "cell_type": "code",
   "execution_count": 124,
   "id": "6a762d26",
   "metadata": {},
   "outputs": [
    {
     "data": {
      "text/html": [
       "<div>\n",
       "<style scoped>\n",
       "    .dataframe tbody tr th:only-of-type {\n",
       "        vertical-align: middle;\n",
       "    }\n",
       "\n",
       "    .dataframe tbody tr th {\n",
       "        vertical-align: top;\n",
       "    }\n",
       "\n",
       "    .dataframe thead th {\n",
       "        text-align: right;\n",
       "    }\n",
       "</style>\n",
       "<table border=\"1\" class=\"dataframe\">\n",
       "  <thead>\n",
       "    <tr style=\"text-align: right;\">\n",
       "      <th></th>\n",
       "      <th>Order ID</th>\n",
       "      <th>Ship Mode</th>\n",
       "      <th>Customer ID</th>\n",
       "      <th>Customer Name</th>\n",
       "      <th>Segment</th>\n",
       "      <th>City</th>\n",
       "      <th>State</th>\n",
       "      <th>Country</th>\n",
       "      <th>Market</th>\n",
       "      <th>Region</th>\n",
       "      <th>Product ID</th>\n",
       "      <th>Category</th>\n",
       "      <th>Sub-Category</th>\n",
       "      <th>Product Name</th>\n",
       "      <th>Order Priority</th>\n",
       "    </tr>\n",
       "  </thead>\n",
       "  <tbody>\n",
       "    <tr>\n",
       "      <th>26583</th>\n",
       "      <td>1476</td>\n",
       "      <td>0</td>\n",
       "      <td>706</td>\n",
       "      <td>447</td>\n",
       "      <td>1</td>\n",
       "      <td>1229</td>\n",
       "      <td>19</td>\n",
       "      <td>35</td>\n",
       "      <td>4</td>\n",
       "      <td>3</td>\n",
       "      <td>2160</td>\n",
       "      <td>1</td>\n",
       "      <td>14</td>\n",
       "      <td>79</td>\n",
       "      <td>1</td>\n",
       "    </tr>\n",
       "    <tr>\n",
       "      <th>26584</th>\n",
       "      <td>1359</td>\n",
       "      <td>3</td>\n",
       "      <td>183</td>\n",
       "      <td>70</td>\n",
       "      <td>0</td>\n",
       "      <td>282</td>\n",
       "      <td>497</td>\n",
       "      <td>51</td>\n",
       "      <td>4</td>\n",
       "      <td>10</td>\n",
       "      <td>462</td>\n",
       "      <td>1</td>\n",
       "      <td>2</td>\n",
       "      <td>271</td>\n",
       "      <td>3</td>\n",
       "    </tr>\n",
       "    <tr>\n",
       "      <th>26586</th>\n",
       "      <td>1773</td>\n",
       "      <td>3</td>\n",
       "      <td>544</td>\n",
       "      <td>337</td>\n",
       "      <td>0</td>\n",
       "      <td>176</td>\n",
       "      <td>319</td>\n",
       "      <td>46</td>\n",
       "      <td>0</td>\n",
       "      <td>4</td>\n",
       "      <td>923</td>\n",
       "      <td>1</td>\n",
       "      <td>6</td>\n",
       "      <td>739</td>\n",
       "      <td>1</td>\n",
       "    </tr>\n",
       "    <tr>\n",
       "      <th>26587</th>\n",
       "      <td>1758</td>\n",
       "      <td>0</td>\n",
       "      <td>468</td>\n",
       "      <td>310</td>\n",
       "      <td>0</td>\n",
       "      <td>10</td>\n",
       "      <td>506</td>\n",
       "      <td>4</td>\n",
       "      <td>0</td>\n",
       "      <td>9</td>\n",
       "      <td>826</td>\n",
       "      <td>1</td>\n",
       "      <td>3</td>\n",
       "      <td>27</td>\n",
       "      <td>1</td>\n",
       "    </tr>\n",
       "    <tr>\n",
       "      <th>26594</th>\n",
       "      <td>353</td>\n",
       "      <td>3</td>\n",
       "      <td>232</td>\n",
       "      <td>169</td>\n",
       "      <td>0</td>\n",
       "      <td>1390</td>\n",
       "      <td>246</td>\n",
       "      <td>105</td>\n",
       "      <td>6</td>\n",
       "      <td>3</td>\n",
       "      <td>352</td>\n",
       "      <td>1</td>\n",
       "      <td>2</td>\n",
       "      <td>697</td>\n",
       "      <td>3</td>\n",
       "    </tr>\n",
       "  </tbody>\n",
       "</table>\n",
       "</div>"
      ],
      "text/plain": [
       "       Order ID  Ship Mode  Customer ID  Customer Name  Segment  City  State  \\\n",
       "26583      1476          0          706            447        1  1229     19   \n",
       "26584      1359          3          183             70        0   282    497   \n",
       "26586      1773          3          544            337        0   176    319   \n",
       "26587      1758          0          468            310        0    10    506   \n",
       "26594       353          3          232            169        0  1390    246   \n",
       "\n",
       "       Country  Market  Region  Product ID  Category  Sub-Category  \\\n",
       "26583       35       4       3        2160         1            14   \n",
       "26584       51       4      10         462         1             2   \n",
       "26586       46       0       4         923         1             6   \n",
       "26587        4       0       9         826         1             3   \n",
       "26594      105       6       3         352         1             2   \n",
       "\n",
       "       Product Name  Order Priority  \n",
       "26583            79               1  \n",
       "26584           271               3  \n",
       "26586           739               1  \n",
       "26587            27               1  \n",
       "26594           697               3  "
      ]
     },
     "execution_count": 124,
     "metadata": {},
     "output_type": "execute_result"
    }
   ],
   "source": [
    "df4_cat_e.head()"
   ]
  },
  {
   "cell_type": "code",
   "execution_count": 125,
   "id": "3cec882f",
   "metadata": {},
   "outputs": [],
   "source": [
    "d1=df4_cat_e.reset_index()"
   ]
  },
  {
   "cell_type": "code",
   "execution_count": 126,
   "id": "4243b012",
   "metadata": {},
   "outputs": [
    {
     "data": {
      "text/html": [
       "<div>\n",
       "<style scoped>\n",
       "    .dataframe tbody tr th:only-of-type {\n",
       "        vertical-align: middle;\n",
       "    }\n",
       "\n",
       "    .dataframe tbody tr th {\n",
       "        vertical-align: top;\n",
       "    }\n",
       "\n",
       "    .dataframe thead th {\n",
       "        text-align: right;\n",
       "    }\n",
       "</style>\n",
       "<table border=\"1\" class=\"dataframe\">\n",
       "  <thead>\n",
       "    <tr style=\"text-align: right;\">\n",
       "      <th></th>\n",
       "      <th>index</th>\n",
       "      <th>Order ID</th>\n",
       "      <th>Ship Mode</th>\n",
       "      <th>Customer ID</th>\n",
       "      <th>Customer Name</th>\n",
       "      <th>Segment</th>\n",
       "      <th>City</th>\n",
       "      <th>State</th>\n",
       "      <th>Country</th>\n",
       "      <th>Market</th>\n",
       "      <th>Region</th>\n",
       "      <th>Product ID</th>\n",
       "      <th>Category</th>\n",
       "      <th>Sub-Category</th>\n",
       "      <th>Product Name</th>\n",
       "      <th>Order Priority</th>\n",
       "    </tr>\n",
       "  </thead>\n",
       "  <tbody>\n",
       "    <tr>\n",
       "      <th>0</th>\n",
       "      <td>26583</td>\n",
       "      <td>1476</td>\n",
       "      <td>0</td>\n",
       "      <td>706</td>\n",
       "      <td>447</td>\n",
       "      <td>1</td>\n",
       "      <td>1229</td>\n",
       "      <td>19</td>\n",
       "      <td>35</td>\n",
       "      <td>4</td>\n",
       "      <td>3</td>\n",
       "      <td>2160</td>\n",
       "      <td>1</td>\n",
       "      <td>14</td>\n",
       "      <td>79</td>\n",
       "      <td>1</td>\n",
       "    </tr>\n",
       "    <tr>\n",
       "      <th>1</th>\n",
       "      <td>26584</td>\n",
       "      <td>1359</td>\n",
       "      <td>3</td>\n",
       "      <td>183</td>\n",
       "      <td>70</td>\n",
       "      <td>0</td>\n",
       "      <td>282</td>\n",
       "      <td>497</td>\n",
       "      <td>51</td>\n",
       "      <td>4</td>\n",
       "      <td>10</td>\n",
       "      <td>462</td>\n",
       "      <td>1</td>\n",
       "      <td>2</td>\n",
       "      <td>271</td>\n",
       "      <td>3</td>\n",
       "    </tr>\n",
       "    <tr>\n",
       "      <th>2</th>\n",
       "      <td>26586</td>\n",
       "      <td>1773</td>\n",
       "      <td>3</td>\n",
       "      <td>544</td>\n",
       "      <td>337</td>\n",
       "      <td>0</td>\n",
       "      <td>176</td>\n",
       "      <td>319</td>\n",
       "      <td>46</td>\n",
       "      <td>0</td>\n",
       "      <td>4</td>\n",
       "      <td>923</td>\n",
       "      <td>1</td>\n",
       "      <td>6</td>\n",
       "      <td>739</td>\n",
       "      <td>1</td>\n",
       "    </tr>\n",
       "    <tr>\n",
       "      <th>3</th>\n",
       "      <td>26587</td>\n",
       "      <td>1758</td>\n",
       "      <td>0</td>\n",
       "      <td>468</td>\n",
       "      <td>310</td>\n",
       "      <td>0</td>\n",
       "      <td>10</td>\n",
       "      <td>506</td>\n",
       "      <td>4</td>\n",
       "      <td>0</td>\n",
       "      <td>9</td>\n",
       "      <td>826</td>\n",
       "      <td>1</td>\n",
       "      <td>3</td>\n",
       "      <td>27</td>\n",
       "      <td>1</td>\n",
       "    </tr>\n",
       "    <tr>\n",
       "      <th>4</th>\n",
       "      <td>26594</td>\n",
       "      <td>353</td>\n",
       "      <td>3</td>\n",
       "      <td>232</td>\n",
       "      <td>169</td>\n",
       "      <td>0</td>\n",
       "      <td>1390</td>\n",
       "      <td>246</td>\n",
       "      <td>105</td>\n",
       "      <td>6</td>\n",
       "      <td>3</td>\n",
       "      <td>352</td>\n",
       "      <td>1</td>\n",
       "      <td>2</td>\n",
       "      <td>697</td>\n",
       "      <td>3</td>\n",
       "    </tr>\n",
       "  </tbody>\n",
       "</table>\n",
       "</div>"
      ],
      "text/plain": [
       "   index  Order ID  Ship Mode  Customer ID  Customer Name  Segment  City  \\\n",
       "0  26583      1476          0          706            447        1  1229   \n",
       "1  26584      1359          3          183             70        0   282   \n",
       "2  26586      1773          3          544            337        0   176   \n",
       "3  26587      1758          0          468            310        0    10   \n",
       "4  26594       353          3          232            169        0  1390   \n",
       "\n",
       "   State  Country  Market  Region  Product ID  Category  Sub-Category  \\\n",
       "0     19       35       4       3        2160         1            14   \n",
       "1    497       51       4      10         462         1             2   \n",
       "2    319       46       0       4         923         1             6   \n",
       "3    506        4       0       9         826         1             3   \n",
       "4    246      105       6       3         352         1             2   \n",
       "\n",
       "   Product Name  Order Priority  \n",
       "0            79               1  \n",
       "1           271               3  \n",
       "2           739               1  \n",
       "3            27               1  \n",
       "4           697               3  "
      ]
     },
     "execution_count": 126,
     "metadata": {},
     "output_type": "execute_result"
    }
   ],
   "source": [
    "d1.head()"
   ]
  },
  {
   "cell_type": "code",
   "execution_count": 127,
   "id": "85242358",
   "metadata": {},
   "outputs": [],
   "source": [
    "d1.drop([\"index\"],axis=1,inplace=True)"
   ]
  },
  {
   "cell_type": "code",
   "execution_count": 128,
   "id": "91b73bbc",
   "metadata": {},
   "outputs": [],
   "source": [
    "df_final=pd.concat([df4_num_mm_sc,d1],axis=1)"
   ]
  },
  {
   "cell_type": "code",
   "execution_count": 129,
   "id": "d7172b2c",
   "metadata": {},
   "outputs": [],
   "source": [
    "df_final.rename(columns={0:\"Sales\",1:\"Quantity\",2:\"Discount\",3:\"Profit\",4:\"Shipping Cost\"},inplace=True)"
   ]
  },
  {
   "cell_type": "code",
   "execution_count": 130,
   "id": "3127bc7d",
   "metadata": {},
   "outputs": [
    {
     "data": {
      "text/html": [
       "<div>\n",
       "<style scoped>\n",
       "    .dataframe tbody tr th:only-of-type {\n",
       "        vertical-align: middle;\n",
       "    }\n",
       "\n",
       "    .dataframe tbody tr th {\n",
       "        vertical-align: top;\n",
       "    }\n",
       "\n",
       "    .dataframe thead th {\n",
       "        text-align: right;\n",
       "    }\n",
       "</style>\n",
       "<table border=\"1\" class=\"dataframe\">\n",
       "  <thead>\n",
       "    <tr style=\"text-align: right;\">\n",
       "      <th></th>\n",
       "      <th>Sales</th>\n",
       "      <th>Quantity</th>\n",
       "      <th>Discount</th>\n",
       "      <th>Profit</th>\n",
       "      <th>Shipping Cost</th>\n",
       "      <th>Order ID</th>\n",
       "      <th>Ship Mode</th>\n",
       "      <th>Customer ID</th>\n",
       "      <th>Customer Name</th>\n",
       "      <th>Segment</th>\n",
       "      <th>City</th>\n",
       "      <th>State</th>\n",
       "      <th>Country</th>\n",
       "      <th>Market</th>\n",
       "      <th>Region</th>\n",
       "      <th>Product ID</th>\n",
       "      <th>Category</th>\n",
       "      <th>Sub-Category</th>\n",
       "      <th>Product Name</th>\n",
       "      <th>Order Priority</th>\n",
       "    </tr>\n",
       "  </thead>\n",
       "  <tbody>\n",
       "    <tr>\n",
       "      <th>0</th>\n",
       "      <td>0.134822</td>\n",
       "      <td>0.0</td>\n",
       "      <td>0.0</td>\n",
       "      <td>0.035948</td>\n",
       "      <td>1.0</td>\n",
       "      <td>1476</td>\n",
       "      <td>0</td>\n",
       "      <td>706</td>\n",
       "      <td>447</td>\n",
       "      <td>1</td>\n",
       "      <td>1229</td>\n",
       "      <td>19</td>\n",
       "      <td>35</td>\n",
       "      <td>4</td>\n",
       "      <td>3</td>\n",
       "      <td>2160</td>\n",
       "      <td>1</td>\n",
       "      <td>14</td>\n",
       "      <td>79</td>\n",
       "      <td>1</td>\n",
       "    </tr>\n",
       "    <tr>\n",
       "      <th>1</th>\n",
       "      <td>0.985939</td>\n",
       "      <td>0.0</td>\n",
       "      <td>0.0</td>\n",
       "      <td>0.129085</td>\n",
       "      <td>1.0</td>\n",
       "      <td>1359</td>\n",
       "      <td>3</td>\n",
       "      <td>183</td>\n",
       "      <td>70</td>\n",
       "      <td>0</td>\n",
       "      <td>282</td>\n",
       "      <td>497</td>\n",
       "      <td>51</td>\n",
       "      <td>4</td>\n",
       "      <td>10</td>\n",
       "      <td>462</td>\n",
       "      <td>1</td>\n",
       "      <td>2</td>\n",
       "      <td>271</td>\n",
       "      <td>3</td>\n",
       "    </tr>\n",
       "    <tr>\n",
       "      <th>2</th>\n",
       "      <td>0.334160</td>\n",
       "      <td>0.5</td>\n",
       "      <td>0.0</td>\n",
       "      <td>0.247549</td>\n",
       "      <td>1.0</td>\n",
       "      <td>1773</td>\n",
       "      <td>3</td>\n",
       "      <td>544</td>\n",
       "      <td>337</td>\n",
       "      <td>0</td>\n",
       "      <td>176</td>\n",
       "      <td>319</td>\n",
       "      <td>46</td>\n",
       "      <td>0</td>\n",
       "      <td>4</td>\n",
       "      <td>923</td>\n",
       "      <td>1</td>\n",
       "      <td>6</td>\n",
       "      <td>739</td>\n",
       "      <td>1</td>\n",
       "    </tr>\n",
       "    <tr>\n",
       "      <th>3</th>\n",
       "      <td>0.238007</td>\n",
       "      <td>0.5</td>\n",
       "      <td>0.2</td>\n",
       "      <td>0.258578</td>\n",
       "      <td>1.0</td>\n",
       "      <td>1758</td>\n",
       "      <td>0</td>\n",
       "      <td>468</td>\n",
       "      <td>310</td>\n",
       "      <td>0</td>\n",
       "      <td>10</td>\n",
       "      <td>506</td>\n",
       "      <td>4</td>\n",
       "      <td>0</td>\n",
       "      <td>9</td>\n",
       "      <td>826</td>\n",
       "      <td>1</td>\n",
       "      <td>3</td>\n",
       "      <td>27</td>\n",
       "      <td>1</td>\n",
       "    </tr>\n",
       "    <tr>\n",
       "      <th>4</th>\n",
       "      <td>0.721257</td>\n",
       "      <td>0.0</td>\n",
       "      <td>0.0</td>\n",
       "      <td>0.620588</td>\n",
       "      <td>1.0</td>\n",
       "      <td>353</td>\n",
       "      <td>3</td>\n",
       "      <td>232</td>\n",
       "      <td>169</td>\n",
       "      <td>0</td>\n",
       "      <td>1390</td>\n",
       "      <td>246</td>\n",
       "      <td>105</td>\n",
       "      <td>6</td>\n",
       "      <td>3</td>\n",
       "      <td>352</td>\n",
       "      <td>1</td>\n",
       "      <td>2</td>\n",
       "      <td>697</td>\n",
       "      <td>3</td>\n",
       "    </tr>\n",
       "  </tbody>\n",
       "</table>\n",
       "</div>"
      ],
      "text/plain": [
       "      Sales  Quantity  Discount    Profit  Shipping Cost  Order ID  Ship Mode  \\\n",
       "0  0.134822       0.0       0.0  0.035948            1.0      1476          0   \n",
       "1  0.985939       0.0       0.0  0.129085            1.0      1359          3   \n",
       "2  0.334160       0.5       0.0  0.247549            1.0      1773          3   \n",
       "3  0.238007       0.5       0.2  0.258578            1.0      1758          0   \n",
       "4  0.721257       0.0       0.0  0.620588            1.0       353          3   \n",
       "\n",
       "   Customer ID  Customer Name  Segment  City  State  Country  Market  Region  \\\n",
       "0          706            447        1  1229     19       35       4       3   \n",
       "1          183             70        0   282    497       51       4      10   \n",
       "2          544            337        0   176    319       46       0       4   \n",
       "3          468            310        0    10    506        4       0       9   \n",
       "4          232            169        0  1390    246      105       6       3   \n",
       "\n",
       "   Product ID  Category  Sub-Category  Product Name  Order Priority  \n",
       "0        2160         1            14            79               1  \n",
       "1         462         1             2           271               3  \n",
       "2         923         1             6           739               1  \n",
       "3         826         1             3            27               1  \n",
       "4         352         1             2           697               3  "
      ]
     },
     "execution_count": 130,
     "metadata": {},
     "output_type": "execute_result"
    }
   ],
   "source": [
    "df_final.head()"
   ]
  },
  {
   "cell_type": "code",
   "execution_count": 131,
   "id": "710d8795",
   "metadata": {},
   "outputs": [
    {
     "data": {
      "text/plain": [
       "Sales             0\n",
       "Quantity          0\n",
       "Discount          0\n",
       "Profit            0\n",
       "Shipping Cost     0\n",
       "Order ID          0\n",
       "Ship Mode         0\n",
       "Customer ID       0\n",
       "Customer Name     0\n",
       "Segment           0\n",
       "City              0\n",
       "State             0\n",
       "Country           0\n",
       "Market            0\n",
       "Region            0\n",
       "Product ID        0\n",
       "Category          0\n",
       "Sub-Category      0\n",
       "Product Name      0\n",
       "Order Priority    0\n",
       "dtype: int64"
      ]
     },
     "execution_count": 131,
     "metadata": {},
     "output_type": "execute_result"
    }
   ],
   "source": [
    "df_final.isnull().sum()"
   ]
  },
  {
   "cell_type": "code",
   "execution_count": 132,
   "id": "52621624-dc65-4f3d-befa-572ef76ca7fc",
   "metadata": {},
   "outputs": [],
   "source": [
    "Y=df_final[\"Sales\"]"
   ]
  },
  {
   "cell_type": "code",
   "execution_count": 133,
   "id": "e552e9f9-af6b-4c0c-9a28-45929c1d1b14",
   "metadata": {},
   "outputs": [],
   "source": [
    "X=df_final.drop([\"Sales\"],axis=1)"
   ]
  },
  {
   "cell_type": "code",
   "execution_count": 134,
   "id": "d7095196-728a-4237-b85c-2f8082781569",
   "metadata": {},
   "outputs": [],
   "source": [
    "from sklearn.model_selection import train_test_split"
   ]
  },
  {
   "cell_type": "code",
   "execution_count": 135,
   "id": "37aecb67-60fc-4205-97dd-6e7818aebc1e",
   "metadata": {},
   "outputs": [],
   "source": [
    "X_train, X_test, y_train, y_test = train_test_split(X, Y, test_size=0.3, random_state=1)"
   ]
  },
  {
   "cell_type": "code",
   "execution_count": 136,
   "id": "a6a0d9d0-4de7-41b4-b91f-8a9e59fbc31d",
   "metadata": {},
   "outputs": [],
   "source": [
    "import os\n",
    "os.environ['GIT_PYTHON_REFRESH']='quiet'\n",
    "os.environ['MLFLOW_TRACKING_URI']='file:///D:/data science QT/Mlops'"
   ]
  },
  {
   "cell_type": "code",
   "execution_count": 137,
   "id": "9b2ba6fa",
   "metadata": {},
   "outputs": [
    {
     "name": "stdout",
     "output_type": "stream",
     "text": [
      "Requirement already satisfied: mlops in d:\\data science qt\\qt\\python\\lib\\site-packages (0.1.0)Note: you may need to restart the kernel to use updated packages.\n",
      "\n",
      "Requirement already satisfied: tensorflow in d:\\data science qt\\qt\\python\\lib\\site-packages (from mlops) (2.18.0)\n",
      "Requirement already satisfied: tensorflow-hub in d:\\data science qt\\qt\\python\\lib\\site-packages (from mlops) (0.16.1)\n",
      "Requirement already satisfied: ruamel.yaml in d:\\data science qt\\qt\\python\\lib\\site-packages (from mlops) (0.18.10)\n",
      "Requirement already satisfied: ruamel.yaml.clib>=0.2.7 in d:\\data science qt\\qt\\python\\lib\\site-packages (from ruamel.yaml->mlops) (0.2.12)\n",
      "Requirement already satisfied: tensorflow-intel==2.18.0 in d:\\data science qt\\qt\\python\\lib\\site-packages (from tensorflow->mlops) (2.18.0)\n",
      "Requirement already satisfied: absl-py>=1.0.0 in d:\\data science qt\\qt\\python\\lib\\site-packages (from tensorflow-intel==2.18.0->tensorflow->mlops) (2.1.0)\n",
      "Requirement already satisfied: astunparse>=1.6.0 in d:\\data science qt\\qt\\python\\lib\\site-packages (from tensorflow-intel==2.18.0->tensorflow->mlops) (1.6.3)\n",
      "Requirement already satisfied: flatbuffers>=24.3.25 in d:\\data science qt\\qt\\python\\lib\\site-packages (from tensorflow-intel==2.18.0->tensorflow->mlops) (25.1.24)\n",
      "Requirement already satisfied: gast!=0.5.0,!=0.5.1,!=0.5.2,>=0.2.1 in d:\\data science qt\\qt\\python\\lib\\site-packages (from tensorflow-intel==2.18.0->tensorflow->mlops) (0.6.0)\n",
      "Requirement already satisfied: google-pasta>=0.1.1 in d:\\data science qt\\qt\\python\\lib\\site-packages (from tensorflow-intel==2.18.0->tensorflow->mlops) (0.2.0)\n",
      "Requirement already satisfied: libclang>=13.0.0 in d:\\data science qt\\qt\\python\\lib\\site-packages (from tensorflow-intel==2.18.0->tensorflow->mlops) (18.1.1)\n",
      "Requirement already satisfied: opt-einsum>=2.3.2 in d:\\data science qt\\qt\\python\\lib\\site-packages (from tensorflow-intel==2.18.0->tensorflow->mlops) (3.4.0)\n",
      "Requirement already satisfied: packaging in c:\\users\\user\\appdata\\roaming\\python\\python312\\site-packages (from tensorflow-intel==2.18.0->tensorflow->mlops) (24.2)\n",
      "Requirement already satisfied: protobuf!=4.21.0,!=4.21.1,!=4.21.2,!=4.21.3,!=4.21.4,!=4.21.5,<6.0.0dev,>=3.20.3 in d:\\data science qt\\qt\\python\\lib\\site-packages (from tensorflow-intel==2.18.0->tensorflow->mlops) (5.29.3)\n",
      "Requirement already satisfied: requests<3,>=2.21.0 in d:\\data science qt\\qt\\python\\lib\\site-packages (from tensorflow-intel==2.18.0->tensorflow->mlops) (2.32.3)\n",
      "Requirement already satisfied: setuptools in d:\\data science qt\\qt\\python\\lib\\site-packages (from tensorflow-intel==2.18.0->tensorflow->mlops) (75.8.0)\n",
      "Requirement already satisfied: six>=1.12.0 in c:\\users\\user\\appdata\\roaming\\python\\python312\\site-packages (from tensorflow-intel==2.18.0->tensorflow->mlops) (1.17.0)\n",
      "Requirement already satisfied: termcolor>=1.1.0 in d:\\data science qt\\qt\\python\\lib\\site-packages (from tensorflow-intel==2.18.0->tensorflow->mlops) (2.5.0)\n",
      "Requirement already satisfied: typing-extensions>=3.6.6 in d:\\data science qt\\qt\\python\\lib\\site-packages (from tensorflow-intel==2.18.0->tensorflow->mlops) (4.12.2)\n",
      "Requirement already satisfied: wrapt>=1.11.0 in d:\\data science qt\\qt\\python\\lib\\site-packages (from tensorflow-intel==2.18.0->tensorflow->mlops) (1.17.2)\n",
      "Requirement already satisfied: grpcio<2.0,>=1.24.3 in d:\\data science qt\\qt\\python\\lib\\site-packages (from tensorflow-intel==2.18.0->tensorflow->mlops) (1.70.0)\n",
      "Requirement already satisfied: tensorboard<2.19,>=2.18 in d:\\data science qt\\qt\\python\\lib\\site-packages (from tensorflow-intel==2.18.0->tensorflow->mlops) (2.18.0)\n",
      "Requirement already satisfied: keras>=3.5.0 in d:\\data science qt\\qt\\python\\lib\\site-packages (from tensorflow-intel==2.18.0->tensorflow->mlops) (3.8.0)\n",
      "Requirement already satisfied: numpy<2.1.0,>=1.26.0 in d:\\data science qt\\qt\\python\\lib\\site-packages (from tensorflow-intel==2.18.0->tensorflow->mlops) (2.0.2)\n",
      "Requirement already satisfied: h5py>=3.11.0 in d:\\data science qt\\qt\\python\\lib\\site-packages (from tensorflow-intel==2.18.0->tensorflow->mlops) (3.12.1)\n",
      "Requirement already satisfied: ml-dtypes<0.5.0,>=0.4.0 in d:\\data science qt\\qt\\python\\lib\\site-packages (from tensorflow-intel==2.18.0->tensorflow->mlops) (0.4.1)\n",
      "Requirement already satisfied: tf-keras>=2.14.1 in d:\\data science qt\\qt\\python\\lib\\site-packages (from tensorflow-hub->mlops) (2.18.0)\n",
      "Requirement already satisfied: wheel<1.0,>=0.23.0 in d:\\data science qt\\qt\\python\\lib\\site-packages (from astunparse>=1.6.0->tensorflow-intel==2.18.0->tensorflow->mlops) (0.45.1)\n",
      "Requirement already satisfied: rich in d:\\data science qt\\qt\\python\\lib\\site-packages (from keras>=3.5.0->tensorflow-intel==2.18.0->tensorflow->mlops) (13.9.4)\n",
      "Requirement already satisfied: namex in d:\\data science qt\\qt\\python\\lib\\site-packages (from keras>=3.5.0->tensorflow-intel==2.18.0->tensorflow->mlops) (0.0.8)\n",
      "Requirement already satisfied: optree in d:\\data science qt\\qt\\python\\lib\\site-packages (from keras>=3.5.0->tensorflow-intel==2.18.0->tensorflow->mlops) (0.14.0)\n",
      "Requirement already satisfied: charset-normalizer<4,>=2 in d:\\data science qt\\qt\\python\\lib\\site-packages (from requests<3,>=2.21.0->tensorflow-intel==2.18.0->tensorflow->mlops) (3.4.1)\n",
      "Requirement already satisfied: idna<4,>=2.5 in d:\\data science qt\\qt\\python\\lib\\site-packages (from requests<3,>=2.21.0->tensorflow-intel==2.18.0->tensorflow->mlops) (3.10)\n",
      "Requirement already satisfied: urllib3<3,>=1.21.1 in d:\\data science qt\\qt\\python\\lib\\site-packages (from requests<3,>=2.21.0->tensorflow-intel==2.18.0->tensorflow->mlops) (2.3.0)\n",
      "Requirement already satisfied: certifi>=2017.4.17 in d:\\data science qt\\qt\\python\\lib\\site-packages (from requests<3,>=2.21.0->tensorflow-intel==2.18.0->tensorflow->mlops) (2025.1.31)\n",
      "Requirement already satisfied: markdown>=2.6.8 in d:\\data science qt\\qt\\python\\lib\\site-packages (from tensorboard<2.19,>=2.18->tensorflow-intel==2.18.0->tensorflow->mlops) (3.7)\n",
      "Requirement already satisfied: tensorboard-data-server<0.8.0,>=0.7.0 in d:\\data science qt\\qt\\python\\lib\\site-packages (from tensorboard<2.19,>=2.18->tensorflow-intel==2.18.0->tensorflow->mlops) (0.7.2)\n",
      "Requirement already satisfied: werkzeug>=1.0.1 in d:\\data science qt\\qt\\python\\lib\\site-packages (from tensorboard<2.19,>=2.18->tensorflow-intel==2.18.0->tensorflow->mlops) (3.1.3)\n",
      "Requirement already satisfied: MarkupSafe>=2.1.1 in d:\\data science qt\\qt\\python\\lib\\site-packages (from werkzeug>=1.0.1->tensorboard<2.19,>=2.18->tensorflow-intel==2.18.0->tensorflow->mlops) (3.0.2)\n",
      "Requirement already satisfied: markdown-it-py>=2.2.0 in d:\\data science qt\\qt\\python\\lib\\site-packages (from rich->keras>=3.5.0->tensorflow-intel==2.18.0->tensorflow->mlops) (3.0.0)\n",
      "Requirement already satisfied: pygments<3.0.0,>=2.13.0 in c:\\users\\user\\appdata\\roaming\\python\\python312\\site-packages (from rich->keras>=3.5.0->tensorflow-intel==2.18.0->tensorflow->mlops) (2.19.1)\n",
      "Requirement already satisfied: mdurl~=0.1 in d:\\data science qt\\qt\\python\\lib\\site-packages (from markdown-it-py>=2.2.0->rich->keras>=3.5.0->tensorflow-intel==2.18.0->tensorflow->mlops) (0.1.2)\n"
     ]
    }
   ],
   "source": [
    "pip install mlops"
   ]
  },
  {
   "cell_type": "code",
   "execution_count": 138,
   "id": "467ab33e-4c2b-42c3-9d50-19759e9cd453",
   "metadata": {},
   "outputs": [],
   "source": [
    "import mlflow  \n",
    "\n",
    "mlflow.set_experiment(\"globalstore-analysis\")\n",
    "mlflow.set_experiment_tag('store-tag','ex1')"
   ]
  },
  {
   "cell_type": "code",
   "execution_count": 139,
   "id": "a7cb4999-9eac-4847-af23-2d174346422a",
   "metadata": {},
   "outputs": [
    {
     "name": "stderr",
     "output_type": "stream",
     "text": [
      "2025/02/04 10:19:48 WARNING mlflow.models.model: Model logged without a signature and input example. Please set `input_example` parameter when logging the model to auto infer the model signature.\n",
      "2025/02/04 10:19:55 WARNING mlflow.models.model: Model logged without a signature and input example. Please set `input_example` parameter when logging the model to auto infer the model signature.\n"
     ]
    }
   ],
   "source": [
    "with mlflow.start_run():    \n",
    "    from sklearn.ensemble import RandomForestRegressor\n",
    "    from sklearn.ensemble import GradientBoostingRegressor\n",
    "    from sklearn.metrics import r2_score\n",
    "    \n",
    "    # model object initialization\n",
    "    RandFor=RandomForestRegressor(n_estimators=5000,max_depth=6)\n",
    "    GBM=GradientBoostingRegressor(n_estimators=3000,max_depth=6,learning_rate=0.01,min_samples_split=5)\n",
    "    rf_n_estimators=5000\n",
    "    #logging parameters\n",
    "    mlflow.log_param(\"n_estimators\",rf_n_estimators)\n",
    "    mlflow.log_param('rf_max_depth',6)\n",
    "    mlflow.log_param('gbm_n_estimators',3000)\n",
    "    mlflow.log_param('gbm_max_depth',6)\n",
    "    mlflow.log_param('gbm_learning_rate',0.01)\n",
    "    mlflow.log_param('gbm_minimum_samples_split',5)\n",
    "    \n",
    "    #training models\n",
    "    rf=RandFor.fit(X_train,y_train)\n",
    "    gbm=GBM.fit(X_train,y_train)\n",
    "    \n",
    "    #training scores\n",
    "    training_score_rf=RandFor.score(X_train,y_train)\n",
    "    training_score_gbm=GBM.score(X_train,y_train)\n",
    "    \n",
    "    #logging training score\n",
    "    mlflow.log_metric(\"rf_training_score\", training_score_rf)\n",
    "    mlflow.log_metric(\"gbm_training_score\",training_score_gbm)\n",
    "    \n",
    "    #value predictions\n",
    "    y_pred_rf=rf.predict(X_test)\n",
    "    y_pred_gbm=gbm.predict(X_test)\n",
    "    \n",
    "    #prediction evaluations\n",
    "    testing_score_rf=r2_score(y_pred_rf,y_test)\n",
    "    testing_score_gbm=r2_score(y_pred_gbm,y_test)\n",
    "    \n",
    "    #logging evaluation scores\n",
    "    mlflow.log_metric(\"rf_training_score\", testing_score_rf)\n",
    "    mlflow.log_metric(\"gbm_training_score\",testing_score_gbm)\n",
    "    \n",
    "    #logging models\n",
    "    mlflow.sklearn.log_model(rf, \"random-forest-model\")\n",
    "    mlflow.sklearn.log_model(gbm, \"gradient-boosting-model\")\n",
    "\n",
    "    "
   ]
  },
  {
   "cell_type": "code",
   "execution_count": 143,
   "id": "9fa3320e-c2c5-4da4-b23d-1d59999e5bd5",
   "metadata": {},
   "outputs": [
    {
     "name": "stdout",
     "output_type": "stream",
     "text": [
      "{'predictions': [0.8195157055293617, 0.4710758121957353, 0.5350214172692488, 0.5500148441791994, 0.6572216341695072, 0.4673571069501147, 0.14379442449865096, 0.25821466719628144, 0.4044109352173712, 0.36264385583589553, 0.20025642123753515, 0.3356870385527475, 0.7107882531418304, 0.19741727465160303, 0.6571847253387593, 0.13717435237276776, 0.273505025745443, 0.26492712228314624, 0.48859068871801337, 0.17309063419779544, 0.28111192126848333, 0.7041091448464729, 0.21515032032823797, 0.4945682247823552, 0.4060912342907822, 0.5967823922423471, 0.17383543089572034, 0.15329742728414333, 0.13907422915834808, 0.1514830492930963, 0.5033622008531556, 0.4160348754398786, 0.14310505615104888, 0.27089241256920016, 0.1667964168067431, 0.683143544379698, 0.2692151220790469, 0.7001129283207178, 0.40505150446387506, 0.35282864620722165, 0.37446131222201634, 0.6206339724930302, 0.1375522201761114, 0.30486870090055473, 0.4773557805617326, 0.16501544307341448, 0.3638412065223092, 0.20928579942957523, 0.28920155886388604, 0.2603697977958611, 0.7928833280886022, 0.4017858280603506, 0.1403865227424315, 0.640104923982097, 0.2819415660494596, 0.14196538583148896, 0.1393631111708345, 0.3154562964223037, 0.1634722195250115, 0.3748216039321509, 0.38911532440893243, 0.29276278311261106, 0.3965054367124404, 0.48729666569001767, 0.17628032325686574, 0.3763613518927937, 0.32432752203566284, 0.1782541281798056, 0.20006360773777065, 0.3352912264862487, 0.4740617093443398, 0.16590524149747993, 0.185762504276932, 0.3089715191292744, 0.46470617168063344, 0.46738389867398944, 0.46933012636656796, 0.15117947936701076, 0.5355663341507522, 0.692451244453339, 0.5583370699186312, 0.5466577920973864, 0.7165330080264728, 0.2534339156946589, 0.1499501541902395, 0.3248313339940293, 0.5335946553334235, 0.1419228656958515, 0.4558255636088157, 0.17562880619666743, 0.3621384703831005, 0.17493515711758903, 0.21193621694517947, 0.21627508171468693, 0.32354184999921826, 0.6700777168991627, 0.14177103824751144, 0.35528985537093344, 0.14568149761768448, 0.21244729731567918, 0.5458985916757384, 0.19766162825282535, 0.2554003928677269, 0.7014283666040093, 0.38179307474240703, 0.437378680023263, 0.24875125649865695, 0.2592287058754187, 0.5994890841396572, 0.4204198449074601, 0.2220447545147441, 0.4031436572512148, 0.3624425620954999, 0.4666875513889161, 0.3276348328435613, 0.43055338252258835, 0.4094032948998979, 0.5555560195339163, 0.13904988013036954, 0.21378172420408587, 0.46191468798128865, 0.29167767801781075, 0.7003167156539984, 0.44068874192180074, 0.15027366483407067, 0.29291756654598994, 0.14317906623032328, 0.18944141238095755, 0.5187248015339165, 0.4134222110283954, 0.14239931222828162, 0.3362414193489615, 0.2010984465182133, 0.6094350766564602, 0.49493272201921834, 0.2634286653851176, 0.3529735500866132, 0.23480800446192834, 0.1450456211837847, 0.5469563667252207, 0.4516801533009221, 0.20091455396004163, 0.21484134189331247, 0.4262227229093238, 0.520038043719567, 0.24476829823259655, 0.33774341515115247, 0.16271490995696394, 0.284798802359697, 0.20471264802904615, 0.23643263970702574, 0.1619078112567512, 0.4343276947361566, 0.44427856284438405, 0.19523432133052723, 0.2747858212882033, 0.25812847972338016, 0.42087697189656836, 0.4796386606453321, 0.4205666463979548, 0.24890720736398889, 0.22491580060859873, 0.49114811196838126, 0.43475338741745284, 0.29461517948784993, 0.3320348990022919, 0.4169808906053543, 0.4148890041868265, 0.1639708682170676, 0.32435716597966563, 0.3207745294549182, 0.16413454833225544, 0.28457405856957485, 0.1751723697469285, 0.6941120763400926, 0.5846463715877698, 0.199170200595171, 0.4112541563247352, 0.3908459407644088, 0.47364890388325903, 0.1404726941602205, 0.1464304350939998, 0.25504275023756523, 0.2024385474625062, 0.3273147710674935, 0.15380842464528574, 0.36118451827732845, 0.34250944962587115, 0.5479643422645594, 0.5001571407484924, 0.2555293739238095, 0.2579450863040244, 0.4387695287055807, 0.45261994577362374, 0.6903012746663764, 0.20771358373012927, 0.3218375365303597, 0.13665199851621607, 0.44038314390904715, 0.32148134150730895, 0.6037900309867975, 0.377400670218958, 0.15477262655498752, 0.14972609187383276, 0.3215878238247831, 0.48042923246780583, 0.5378177352904849, 0.3094677942573886, 0.33190959613540116, 0.4427574416520346, 0.4732303115484494, 0.2203488222357114, 0.22153445820306866, 0.5380539392285553, 0.3529695581520157, 0.46666135129790925, 0.24324207580862575, 0.3520717325318555, 0.5764817727293191, 0.28321381341310736, 0.31846888457343564, 0.4305471685714594, 0.20695188804447934, 0.4239764878557646, 0.3250612857182844, 0.47220909803715566, 0.6319177043933225, 0.7163072577177564, 0.3640011992540812, 0.538097525439444, 0.4634530442033809, 0.35958371182358156, 0.7284826829152204, 0.2632163408757952, 0.3259344301603563, 0.36380296997974343, 0.22772420266554874, 0.36418626800659165, 0.2879638130248299, 0.6984807033014374, 0.5158300967931679, 0.25527912269408504, 0.37949820824517466, 0.7727158946494167, 0.20425924005887067, 0.4093955701574183, 0.6575458710417981, 0.403441332706861, 0.15710509178212925, 0.33425223090949696, 0.4559068364981423, 0.33061289244633996, 0.2655933688808447, 0.40772921604085277, 0.40976573371259467, 0.32131857712681333, 0.5413868627533868, 0.8427530132533526, 0.45770575165334615, 0.20465393155421716, 0.6412547295456047, 0.817097124277807, 0.17514519777812362, 0.2788518887880259, 0.28014985758935856, 0.45214667270450337, 0.6541668461271299, 0.5842110473899519, 0.16451897149472727, 0.4351596335410587, 0.4409251612394154, 0.5439732219343778, 0.20878519947132976, 0.4037584114561947, 0.5638024092724864, 0.1382897213281269, 0.5290174172228178, 0.2563517472768321, 0.1373269406433213, 0.3913454053709306, 0.28299389255286705, 0.3090965608225341, 0.20170986620258274, 0.4760683818600366, 0.5385659116652207, 0.25504857504865547, 0.43554997687258956, 0.5130992447931322, 0.16491860886766085, 0.18307821970463492, 0.14866730588312194, 0.2496955959319384, 0.3524121583837061, 0.29640728443172454, 0.3363275504716315, 0.2493735325531186, 0.4388292219796137, 0.36072689958522985, 0.3525791664007178, 0.41951567032281645, 0.3333538035754005, 0.2540656794318268, 0.5350992250415841, 0.14136554388041292, 0.4290404530750242, 0.7336740475700367, 0.26603681969236087, 0.758929698531849, 0.2087185959935291, 0.4103931687179468, 0.1504431326400248, 0.5758328358325201, 0.2847649913504691, 0.6253807717304166, 0.2823400995866508, 0.3254978313787948, 0.5939868456358489, 0.3721472413414183, 0.48888912138419394, 0.7049263693531835, 0.23818521711280977, 0.4075784087911605, 0.18766804468427642, 0.4367243348573365, 0.49625133387615916, 0.20342904302323536, 0.26107443758951576, 0.25783905379557676, 0.3248843528111159, 0.27667372207385804, 0.14855517272457275, 0.6896503278500339, 0.26741244922312085, 0.23249938184089852, 0.5326974904094566, 0.34503084236491327, 0.15209112293409155, 0.6310322075411116, 0.4785708550076599, 0.5658886692984024, 0.6113758598222059, 0.26826133179076334, 0.13729608155493936, 0.6901141635550412, 0.47958053986281785, 0.5781959034767787, 0.6907327820789382, 0.28942818606979664, 0.2689748788570191, 0.7193767626497276, 0.4061233095001844, 0.33407326539452337, 0.629338405535493, 0.5130520582985938, 0.46295751971989146, 0.32727552334580634, 0.150108397825171, 0.3489815992835038, 0.36206760720821063, 0.40265417375233137, 0.2594876437297482, 0.3006838851246591, 0.4705119846637862, 0.17324767998104576, 0.6480141382845, 0.3926571008189351, 0.152469203285162, 0.593330630392931, 0.4724213820032385, 0.49531572368726984, 0.4473714788060879, 0.1592829605544787, 0.20043131415281407, 0.3490705974787951, 0.14823443479771306, 0.251056354845944, 0.3756290544645255, 0.5522935253172956, 0.29524671267541314, 0.39247647485669845, 0.4638834844691477, 0.8346437102444523, 0.1916957964155121, 0.1374632589696193, 0.8235788334319708, 0.1406721908146108, 0.2085192403452167, 0.30539519539348076, 0.3879885917859147, 0.3592546290386299, 0.27932081348574467, 0.4482460965457937, 0.5867781338495766, 0.41653643883344876, 0.3848438732829467, 0.5341673940633412, 0.2759344252098482, 0.5750871806367033, 0.6975332013466178, 0.2684888929245354, 0.4320833934998961, 0.1384594554378641, 0.17497126101715832, 0.14702404440460673, 0.25434667867498334, 0.14927835759527433, 0.15395017979248646, 0.6145132319928356, 0.19672360418120044, 0.37016829914187466, 0.32202892604125727, 0.5905751358505766, 0.1763845640181082, 0.24998279658176725, 0.17962909830199023, 0.33628064730374974, 0.14623976032925737, 0.5215145777443064, 0.40450205826654656, 0.30074060528251223, 0.5686595738516337, 0.347199843188431, 0.2832514878501789, 0.2326685325629966, 0.3201571776721599, 0.26667750362401116, 0.49306145808478125, 0.44805547024149844, 0.15689223787329734, 0.24304822735926596, 0.2970335327079454, 0.16922922468898866, 0.25276936590150917, 0.20778542332288885, 0.6083613850836904, 0.46615294581120126, 0.5418044656615251, 0.26061092183366436, 0.6384885833168006, 0.26084607997839193, 0.37939237975777584, 0.36841228226664274, 0.6627869783517885, 0.24393765345091056, 0.3047998486274077, 0.35064271722884927, 0.14222244460521455, 0.3875898278390052, 0.5844922791259973, 0.1475844222936615, 0.24604017516002913, 0.15561048472670747, 0.17985455175059473, 0.5435375869364473, 0.40964383052214737, 0.4022816610945434, 0.7650648658070348, 0.17875599842271525, 0.35191562097617723, 0.4520869184994771, 0.33639436307004456, 0.6281150281737068, 0.37580121846177234, 0.23204773758876945, 0.6981978367916682, 0.2023454803203758, 0.5717719131078053, 0.2562674309506574, 0.4521579777615374, 0.5226609867837053, 0.3417621088743287, 0.6600654031619112, 0.2295184501259511, 0.17456642870545735, 0.18714701662647587, 0.7000880760827023, 0.1642754562207839, 0.26315667833102574, 0.23460416887675825, 0.3145232801840905, 0.1620721111741926, 0.14776204904430984, 0.4621887641177389, 0.13775327569620052, 0.2844130890023535, 0.44259914009316925, 0.47792174337249027, 0.44520123608054774, 0.2516569275528729, 0.5938844671715557, 0.3351657221706185, 0.4108168279159414, 0.4542693701872374, 0.7174350933708461, 0.26313342414082724, 0.36850769692148466, 0.4711151456218664, 0.36743101664263633, 0.523640117778433, 0.14387046237845755, 0.15341768725985638, 0.25440764387971765, 0.5397675768809057, 0.17164578277270146, 0.5847740293239134, 0.1666343438877424, 0.26801089742352374, 0.4426249675296947, 0.32127764000773607, 0.1594144551978915, 0.5032950260429578, 0.5472110469639423, 0.43318611269264873, 0.2510049812316679, 0.22335872767573042, 0.28314202273322675, 0.2808033785035536, 0.2641385882100141, 0.34227901051603415, 0.13886032544065072, 0.2676314735099442, 0.5707158411720888, 0.16576583478556006, 0.42784403324268716, 0.6962734112380247, 0.5669592228406358, 0.6389256396189181, 0.6917267890730908, 0.501437729786711, 0.2489127011868849, 0.6248492538956466, 0.29173127558637224, 0.28906160628158234, 0.7118389407312281, 0.35301767917510013, 0.379111229525827, 0.47465303847315016, 0.5090534810427922, 0.6213017042314432, 0.3220686753822343, 0.7035473130111339, 0.5322011210645622, 0.3178169773339391, 0.2104940854459307, 0.1486797840890607, 0.5322198507184259, 0.34611074646950457, 0.18439427681699475, 0.5778401475319864, 0.748984539128238, 0.1353653766989245, 0.7686137181912482, 0.38245169656563516, 0.4012564731183927, 0.26188153299073086, 0.6979568569423671, 0.4160711445088805, 0.8465634446521774, 0.6202213087456879, 0.2728302224005261, 0.25350702378578693, 0.47815331410282136, 0.24817112981583883, 0.3353289037539055, 0.15501048446687626, 0.3493280099954352, 0.7707564930812237, 0.34271878457842914, 0.5699931672239811, 0.3770614506145702, 0.1525230459548522, 0.5255571814468449, 0.3896197327277875, 0.1499189307709773, 0.26710807193756375, 0.7042183205946626, 0.20142685705593064, 0.2535986499711085, 0.2890775451376237, 0.6829116509131175, 0.13992431808382677, 0.575647581515953, 0.2880794213108462, 0.2535326690213954, 0.42005207041951764, 0.3764369878057335, 0.4367194021133389, 0.454201843627709, 0.49857679349201756, 0.15635944794769888, 0.698099991824118, 0.19588014791710423, 0.6989538466490745, 0.531483751552769, 0.17908037855641998, 0.4409967893073578, 0.24596041195758267, 0.44770837190145374, 0.5122815752890376, 0.2558940008973514, 0.5489496535517927, 0.6254116065864525, 0.6051414099663787, 0.424550852031634, 0.15048170935430652, 0.5271326519325613, 0.2759306187630122, 0.6905612785154525, 0.5788639237211318, 0.5801404047537185, 0.7009366378037563, 0.7467016176039614, 0.28199406270625355, 0.13878353940362395, 0.29271161499709425, 0.5504280951347482, 0.5007319317087331, 0.14228802460505094, 0.26852347617668126, 0.39067356707080536, 0.19978387117135196, 0.35798954020336915, 0.7547082712897535, 0.3797451734455401, 0.25015627264214274, 0.5779174760739417, 0.3642235103598144, 0.5326499052334184, 0.699518850239162, 0.2673295864084301, 0.6880972623376854, 0.3982470006885037, 0.6822649465979992, 0.35723776950646186, 0.3014094793024453, 0.7069334460669522, 0.2997288576401041, 0.6379742763354197, 0.3238107771424385, 0.2009937315674248, 0.43097427640506114, 0.15897454294306915, 0.591446118012375, 0.7562748524844429, 0.5294391700772906, 0.315980670181512, 0.6606538383589708, 0.3760433745741779, 0.1475437969454355, 0.19705673514640693, 0.344029726613328, 0.359560403184356, 0.21263459241113106, 0.4804031055389459, 0.4272006031679865, 0.41585259443457445, 0.2511784590957472, 0.5316005306361944, 0.48305926731852405, 0.4813755039749405, 0.37023716288595127, 0.20168411557186952, 0.24987599171413288, 0.15012664055922106, 0.3994734226176605, 0.3803490058850873, 0.510588081580452, 0.5977255681157768, 0.379876246500613, 0.6240022010768643, 0.6654463307129737, 0.541051067509978, 0.17621152037365967, 0.18844228576706643, 0.5049895235725901, 0.1711534441377597, 0.13773768990348417, 0.4343233896484859, 0.5996531516010402, 0.5298572731804316, 0.14854435982449374, 0.4170455155029688, 0.27728124402170745, 0.44698146600468, 0.5330976769238281, 0.3161723372110714, 0.7052950074391495, 0.17405914155196409, 0.17432682854516332, 0.5046623185626395, 0.2508966612590082, 0.8386856845806344, 0.17034919832324777, 0.4993265621411717, 0.332007913762738, 0.4247929961042282, 0.7054745636004274, 0.1454899021423381, 0.36717326433957076, 0.14711295676824487, 0.5675327150393554, 0.5188147471739762, 0.3803117247323385, 0.46030304895159896, 0.27248232003781725, 0.320035901770554, 0.14484147247866277, 0.6694407561444871, 0.4430240317890285, 0.29105306995918806, 0.5173512991599104, 0.4422662019254745, 0.6050562022384881, 0.7026233742126539, 0.16619069716055432, 0.39971192109633963, 0.18848201264594774, 0.6386363716126688, 0.40378934316136167, 0.4421460949244746, 0.17951160018519005, 0.47645130660674895, 0.3641313843685492, 0.7134969870652903, 0.7574087813471816, 0.2676405165255274, 0.6925837061909738, 0.5272685928926568, 0.3153095337020837, 0.6203517246208232, 0.15915266588788582, 0.2522356359291365, 0.25371960363103807, 0.1483623241285378, 0.2251197550762265, 0.28531136869870377, 0.42405028018862423, 0.14317960139595806, 0.2537569110935991, 0.1397654042122645, 0.45655284697325077, 0.1618119972887082, 0.259282649515493, 0.47385941678298643, 0.3981461574197132, 0.5533648081018936, 0.19087024622088336, 0.14139280026477974, 0.13874918204037787, 0.5221619954726512, 0.258870724465759, 0.6463250614191977, 0.29142254466784984, 0.6087972135043396, 0.6041575764701633, 0.4103428431122683, 0.8501673660957847, 0.24767185368045586, 0.5036078076745599, 0.478367864932599, 0.4185019346355022, 0.36092838242702424, 0.4761648303458681, 0.569901490942534, 0.3770627718771254, 0.19979004653545088, 0.5234153313162747, 0.4759996249667702, 0.14018508256816486, 0.29282509643810434, 0.27809871425193816, 0.283790956279462, 0.42148730741571955, 0.5954624110286868, 0.1392344402644421, 0.30256743059743557, 0.528483560262981, 0.5312785013739464, 0.2674857572185192, 0.251446808728042, 0.3035045250300947, 0.6091823309040991, 0.2762648022460108, 0.46585253504152313, 0.13280269664044386, 0.24766492570248808, 0.3172367624326676, 0.14748448324493343, 0.31021578589181664, 0.7498687315380475, 0.18702154231422122, 0.3439279513036988, 0.1504780560817306, 0.3146262593678147, 0.7238213795063517, 0.49699052069337857, 0.414708503919717, 0.4645683094932958, 0.262359261933501, 0.30178890542890646, 0.42028165894543634, 0.40505694861841135, 0.47052760647907754, 0.2106795965865414, 0.4001006189441689, 0.6055723027379335, 0.37006423379114656, 0.3755698988178329, 0.4027585623297622, 0.6061146979727183, 0.3797400954596049, 0.18811748960669186, 0.6931448509295728, 0.1865966160953545, 0.3292396279448747, 0.489537634790273, 0.1771990379468159, 0.4553873516919225, 0.6211553917711089, 0.374077360907901, 0.3782459544497714, 0.37687515721226006, 0.5253785177404396, 0.28305310639114795, 0.5318733268003478, 0.15355757399831965, 0.17633697965744188, 0.4269259904393194, 0.264492462220955, 0.26874049600945793, 0.41397166311951694, 0.5804908050810244, 0.6158503652032311, 0.258214709360679, 0.4142088638114249, 0.5387266438222923, 0.14731988270838203, 0.6597535871861964, 0.36184360306747254, 0.327669255526604, 0.15181685690037167, 0.5586090984824951, 0.2514652586038632, 0.45500528908408117, 0.3256831470455975, 0.1782282019682926, 0.6506890638498612, 0.5363419349038949, 0.6060404115737265, 0.4280843479937506, 0.5868529072310498, 0.6609104237682508, 0.475809324058063, 0.7153373049226992, 0.6936458946893077, 0.1603251312240489, 0.35938388660293485, 0.46430448648161066, 0.6255972237920352, 0.3089944539103436, 0.5163065088507365, 0.5970693133021021, 0.46039926381998786, 0.6307903140028769, 0.5727419852803413, 0.2742413588260874, 0.4812653254047512, 0.4343367922706966, 0.6428484380233824, 0.35353945800126574, 0.3232013619493578, 0.5008775024020262, 0.3463434332919464, 0.4492370994328484, 0.6139978424964379, 0.5169346953265567, 0.3361245819117379, 0.32297492884515855, 0.3870237939976729, 0.246207124090336, 0.6881046875997756, 0.25762326497276417, 0.5869653977331581, 0.15084578360128484, 0.3497709072166347, 0.1469662099821876, 0.15067763883095966, 0.20095139212370405, 0.15975727841257198, 0.47543098613193535, 0.3588069469258338, 0.18435938904227814, 0.5224431037615245, 0.13771702893756327, 0.14645860992201598, 0.2961299090140305, 0.4270746316801492, 0.8108737543923737, 0.15429612306764098, 0.20896183976804764, 0.26133069668975634, 0.27322161826409763, 0.2618687194932888, 0.3251631301727733, 0.2827970593915259, 0.35338382577126354, 0.5704172012399926, 0.28057771648834845, 0.32791960700745776, 0.7109310093809857, 0.13945077313960708, 0.40786875390477434, 0.1386428112199211, 0.6178096615336234, 0.19561157191420306, 0.7837511635559801, 0.4946462103846895, 0.48123553240315214, 0.20408792736151907, 0.266664543551641, 0.5664421629513436, 0.35486266701440217, 0.27325904561110664, 0.437590202578776, 0.13735501501688085, 0.25107871703290063, 0.6008823141579315, 0.24929252301492993, 0.5683700019468959, 0.818462966532191, 0.5451295963568419, 0.31313242544771597, 0.6045156788581451, 0.5290771590011693, 0.6434745932865079, 0.14963474686258993, 0.2547135991794191, 0.38492550532047276, 0.14853893655826214, 0.26302740391048757, 0.1417513657663657, 0.8624000529614041, 0.4295131869418039, 0.2786927268803482, 0.3246314529329936, 0.21379892425951594, 0.37492478729980055, 0.13746978847689464, 0.6919820759911381, 0.5748693379674303, 0.15685649749074604, 0.5323554625057532, 0.245199545457959, 0.34987137922865824, 0.2897571642732975, 0.31183835372035107, 0.24810581269312715, 0.31837398459261307, 0.52702892313319, 0.21370614002494326, 0.711484341941835, 0.4589790405783221, 0.2518843033666282, 0.5735195045713304, 0.18022873734862693, 0.43165036629859377, 0.4668752996181983, 0.36091060476834086, 0.13864451159804653, 0.6820208811093461, 0.470387599100623, 0.7262695067290367, 0.3706243665036014, 0.16121513015914915, 0.16093958792403207, 0.5002423672009338, 0.30882956820999774, 0.1457393321371801, 0.5500603991864701, 0.38562068320525156, 0.6135411623504697, 0.28940441333127526, 0.16179292442283788, 0.44201444065931383, 0.4157153820529346, 0.35502195280362003, 0.4870633623439388, 0.14559108654713024, 0.22195261451822834, 0.28832261038842966, 0.20801030779316207, 0.6473328539715175, 0.3443725350690508, 0.246701950408106, 0.1532201233619305, 0.3508033656989602, 0.7299980697796137, 0.3645600006880722, 0.6832395058220195, 0.4487686310601779, 0.7359963082528584, 0.4404913468700275, 0.38578839184188113, 0.4111661471368222, 0.39687512765382466, 0.2860560009411318, 0.5570538374858087, 0.6514813405954846, 0.22006294369216053, 0.3412032411961933, 0.15713310140309766, 0.5706003807082854, 0.4538608444982307, 0.5896034968117242, 0.2618063750962888, 0.5226823836522698, 0.41262474423756584, 0.1399017596269605, 0.39367752561729796, 0.4220570107837143, 0.16226199613457554, 0.14009131064398547, 0.24016493876961612, 0.21270988837271348, 0.5380870523019319, 0.3461172766056926, 0.4612331778857181, 0.7360304274209779, 0.301302177824185, 0.4417792326902431, 0.2407961803594349, 0.641825354587388, 0.25134589605229446, 0.25540640049870483, 0.3889392004471838, 0.26085099078459206, 0.6597116904373366, 0.3060204289621312, 0.2688108649206125, 0.7218611467267997, 0.34969599775204524, 0.5895964069394818, 0.28290275215455846, 0.5531460763361342, 0.33661897218174636, 0.2521359444957202, 0.48833003140470216, 0.41723712805431534, 0.2506952082049108, 0.6603025289176422, 0.35666392273687647, 0.1665007241540749, 0.3223977965996891, 0.14848386626540214, 0.6656564072231563, 0.6941879746865287, 0.6484292212129648, 0.5285418791521357, 0.48591641302936106, 0.14673717311117437, 0.6936221753750272, 0.41539204714989747, 0.7136675477956064, 0.3281621601630679, 0.6063064569138775, 0.181302699419633, 0.3905806393509254, 0.405285081564582, 0.5297805165627084, 0.24968970756943595, 0.17565903452447637, 0.2571074313137699, 0.7129120024725405, 0.4554420818149982, 0.6962230855076299, 0.1549995719703328, 0.1491659434729019, 0.2361017731512532, 0.523891828610677, 0.1494308760114285, 0.4839760924587591, 0.5496905726548338, 0.5328110169678991, 0.13818934573361538, 0.6743162962877991, 0.44945905303529354, 0.15984787118051053, 0.4736039680583106, 0.5524082599745654, 0.43577780800750027, 0.7154099080611691, 0.16674301059381966, 0.20562661369824023, 0.2878343124335648, 0.6135978113200656, 0.6571593224048593, 0.16008141159912048, 0.24208449335118784, 0.24918259289485623, 0.3588319859412433, 0.5293317346729746, 0.2006687833051476, 0.1385770569319323, 0.184196407267521, 0.42999061251448, 0.13902973438978114, 0.2508299894800149, 0.3118936987721643, 0.5668826797446489, 0.15843558263038093, 0.34102768637332825, 0.21402510442980074, 0.6933801705752423, 0.6338946464738955, 0.32575609789726134, 0.2702450251984071, 0.38525675483149135, 0.32358930802570357, 0.22829709099848733, 0.5260090420927607, 0.13910575022616722, 0.3667827872785141, 0.14134919208705315, 0.5192055745089399, 0.649377123996654, 0.3377113617444784, 0.2913505017245049, 0.4689760313834974, 0.3266915362815043, 0.4201462965245532, 0.25236252521658203, 0.14794915733770816, 0.3613604004671558, 0.5574718851559048, 0.6860229172793432, 0.3316588489359607, 0.15081842441882978, 0.1526425909376733, 0.40831401728534183, 0.28124170721195885, 0.1935419957168793, 0.6223484530405399, 0.2632185231505392, 0.29465303730532744, 0.14210094277910434, 0.3989734922664032, 0.37439003350537503, 0.3579667700913194, 0.442328919082471, 0.2798360463092949, 0.36418477087245743, 0.6157881827334657, 0.6759952750339997, 0.5764440564456224, 0.8494335938010319, 0.6914426433994038, 0.3256804627801539, 0.2245892811108361, 0.24891578329665154, 0.15189351281652105, 0.31143264639699825, 0.20970516074414164, 0.6678658937543823, 0.4808215764381003, 0.4445920576577927, 0.29223022751717365, 0.8191312563758756, 0.25865026131829433, 0.14812076485099496, 0.2824565394072383, 0.648621167212222, 0.593333846594289, 0.6295026588359199, 0.24786275259381013, 0.5334256633772357, 0.7014004080023979, 0.2757053712620688, 0.4544562509037333, 0.18115646251563033, 0.4360619764200971, 0.6697888854268009, 0.3094214011572743, 0.377653528087746, 0.6096758705743888, 0.33660895542421815, 0.319275712107973]}\n"
     ]
    }
   ],
   "source": [
    "import requests\n",
    "import json\n",
    "import mlflow\n",
    "\n",
    "\n",
    "data = {'dataframe_records': X_test.values.tolist()}\n",
    "headers = {\"Content-Type\": \"application/json\"}\n",
    "\n",
    "response = requests.post(\"http://localhost:8004/invocations\", data=json.dumps(data), headers=headers)\n",
    "predictions = response.json()\n",
    "\n",
    "print(predictions)"
   ]
  },
  {
   "cell_type": "code",
   "execution_count": null,
   "id": "07651acf-0185-4eb1-9638-0a91cb2bbebd",
   "metadata": {},
   "outputs": [],
   "source": []
  },
  {
   "cell_type": "code",
   "execution_count": null,
   "id": "1043ffc6-090e-4638-8dfa-3d7d6318b2fd",
   "metadata": {},
   "outputs": [],
   "source": []
  },
  {
   "cell_type": "code",
   "execution_count": null,
   "id": "aafaef45-3658-4816-90aa-15dd436d2858",
   "metadata": {},
   "outputs": [],
   "source": []
  },
  {
   "cell_type": "code",
   "execution_count": null,
   "id": "06db5da1-2aae-4d2b-a776-98ad1c513b5a",
   "metadata": {},
   "outputs": [],
   "source": []
  },
  {
   "cell_type": "code",
   "execution_count": null,
   "id": "6f054a94",
   "metadata": {},
   "outputs": [],
   "source": []
  },
  {
   "cell_type": "code",
   "execution_count": null,
   "id": "83d6b766",
   "metadata": {},
   "outputs": [],
   "source": []
  },
  {
   "cell_type": "code",
   "execution_count": null,
   "id": "eda796fd",
   "metadata": {},
   "outputs": [],
   "source": []
  },
  {
   "cell_type": "code",
   "execution_count": null,
   "id": "f9c664f7",
   "metadata": {},
   "outputs": [],
   "source": []
  }
 ],
 "metadata": {
  "kernelspec": {
   "display_name": "Python 3",
   "language": "python",
   "name": "python3"
  },
  "language_info": {
   "codemirror_mode": {
    "name": "ipython",
    "version": 3
   },
   "file_extension": ".py",
   "mimetype": "text/x-python",
   "name": "python",
   "nbconvert_exporter": "python",
   "pygments_lexer": "ipython3",
   "version": "3.12.8"
  }
 },
 "nbformat": 4,
 "nbformat_minor": 5
}
