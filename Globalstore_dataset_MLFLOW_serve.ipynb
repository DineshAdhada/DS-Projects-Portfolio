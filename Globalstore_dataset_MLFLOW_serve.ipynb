{
 "cells": [
  {
   "cell_type": "code",
   "execution_count": 10,
   "id": "7cc6963c-5d16-4e00-93b4-09cfb02eecdb",
   "metadata": {},
   "outputs": [],
   "source": [
    "import os\n",
    "os.environ['GIT_PYTHON_REFRESH']='quiet'\n",
    "os.environ['MLFLOW_TRACKING_URI']='file:///D:/data science QT/Mlops'"
   ]
  },
  {
   "cell_type": "code",
   "execution_count": 11,
   "id": "2102802d-308d-4228-b644-32cae92966c3",
   "metadata": {},
   "outputs": [
    {
     "name": "stdout",
     "output_type": "stream",
     "text": [
      "                             run_id       experiment_id    status  \\\n",
      "0  237fcf49fc80495584ddbbdcefb7bb5e  154683191478306331  FINISHED   \n",
      "1  890f7442dc9f4e8382f1b1c8bd46675e  886188050914907281  FINISHED   \n",
      "2  aab97f6977b440fe9adb6879c43edd45  154683191478306331  FINISHED   \n",
      "3  fd924331577845979635fe9560230ec9  886188050914907281  FINISHED   \n",
      "\n",
      "                                        artifact_uri  \\\n",
      "0  file:///D:/data science QT/Mlops/1546831914783...   \n",
      "1  file:///D:/data science QT/Mlops/8861880509149...   \n",
      "2  file:///D:/data science QT/Mlops/1546831914783...   \n",
      "3  file:///D:/data science QT/Mlops/8861880509149...   \n",
      "\n",
      "                        start_time                         end_time  \\\n",
      "0 2025-02-04 04:47:28.751000+00:00 2025-02-04 04:49:55.913000+00:00   \n",
      "1 2025-02-04 04:36:11.643000+00:00 2025-02-04 04:37:00.931000+00:00   \n",
      "2 2025-02-04 04:16:43.781000+00:00 2025-02-04 04:19:50.937000+00:00   \n",
      "3 2025-02-04 03:35:38.134000+00:00 2025-02-04 03:36:40.529000+00:00   \n",
      "\n",
      "   metrics.rf_training_score  metrics.gbm_training_score  \\\n",
      "0                   0.002794                    0.333518   \n",
      "1                   1.000000                    1.000000   \n",
      "2                   0.003197                    0.333083   \n",
      "3                   1.000000                    1.000000   \n",
      "\n",
      "   metrics.rf_testing_score  metrics.gbm_testing_score  ...  \\\n",
      "0                       NaN                        NaN  ...   \n",
      "1                       1.0                        1.0  ...   \n",
      "2                       NaN                        NaN  ...   \n",
      "3                       1.0                        1.0  ...   \n",
      "\n",
      "  params.n_estimators params.gbm_learning_rate params.gbm_max_depth  \\\n",
      "0                5000                     0.01                    6   \n",
      "1                5000                     0.01                    6   \n",
      "2                5000                     0.01                    6   \n",
      "3                5000                     0.01                    6   \n",
      "\n",
      "                             tags.mlflow.source.name tags.mlflow.source.type  \\\n",
      "0  C:\\Users\\User\\AppData\\Roaming\\Python\\Python312...                   LOCAL   \n",
      "1  C:\\Users\\User\\AppData\\Roaming\\Python\\Python312...                   LOCAL   \n",
      "2  C:\\Users\\User\\AppData\\Roaming\\Python\\Python312...                   LOCAL   \n",
      "3  C:\\Users\\User\\AppData\\Roaming\\Python\\Python312...                   LOCAL   \n",
      "\n",
      "  tags.mlflow.user  tags.mlflow.runName  \\\n",
      "0             User         bold-auk-763   \n",
      "1             User     learned-goat-130   \n",
      "2             User  mysterious-hare-279   \n",
      "3             User    enthused-dove-416   \n",
      "\n",
      "                       tags.mlflow.log-model.history tags.feature_set_version  \\\n",
      "0  [{\"run_id\": \"237fcf49fc80495584ddbbdcefb7bb5e\"...                     None   \n",
      "1  [{\"run_id\": \"890f7442dc9f4e8382f1b1c8bd46675e\"...             loan default   \n",
      "2  [{\"run_id\": \"aab97f6977b440fe9adb6879c43edd45\"...                     None   \n",
      "3  [{\"run_id\": \"fd924331577845979635fe9560230ec9\"...             loan default   \n",
      "\n",
      "  tags.iteration_name  \n",
      "0                None  \n",
      "1  test_rf_gb_sklearn  \n",
      "2                None  \n",
      "3  test_rf_gb_sklearn  \n",
      "\n",
      "[4 rows x 23 columns]\n"
     ]
    }
   ],
   "source": [
    "import mlflow\n",
    "\n",
    "all_runs = mlflow.search_runs(search_all_experiments=True)\n",
    "print(all_runs)"
   ]
  },
  {
   "cell_type": "code",
   "execution_count": 12,
   "id": "cbf94313-030a-485a-859a-3e32fc26b399",
   "metadata": {},
   "outputs": [
    {
     "name": "stdout",
     "output_type": "stream",
     "text": [
      "^C\n"
     ]
    }
   ],
   "source": [
    "!mlflow models serve -p 8004 -m runs:/fd924331577845979635fe9560230ec9dd45/random-forest-model  --no-conda"
   ]
  },
  {
   "cell_type": "code",
   "execution_count": null,
   "id": "66df8dc8-a373-4185-879a-967fc8b46274",
   "metadata": {},
   "outputs": [],
   "source": []
  }
 ],
 "metadata": {
  "kernelspec": {
   "display_name": "Python 3",
   "language": "python",
   "name": "python3"
  },
  "language_info": {
   "codemirror_mode": {
    "name": "ipython",
    "version": 3
   },
   "file_extension": ".py",
   "mimetype": "text/x-python",
   "name": "python",
   "nbconvert_exporter": "python",
   "pygments_lexer": "ipython3",
   "version": "3.12.8"
  }
 },
 "nbformat": 4,
 "nbformat_minor": 5
}
