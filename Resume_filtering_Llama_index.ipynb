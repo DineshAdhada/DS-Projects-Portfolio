{
 "cells": [
  {
   "cell_type": "markdown",
   "id": "b8cf4967-7435-4ba8-8196-2f4614a40be3",
   "metadata": {},
   "source": [
    "# save key in environmental varaible  "
   ]
  },
  {
   "cell_type": "code",
   "execution_count": null,
   "id": "cb487736-fce8-4aae-b173-c0369d386ed8",
   "metadata": {},
   "outputs": [],
   "source": [
    "import os\n",
    "#os.environ[\"OPENAI_API_KEY\"]=\"\"\n",
    "os.environ[\"OPENAI_API_KEY\"]=\"OPENAI_API_KEY\""
   ]
  },
  {
   "cell_type": "markdown",
   "id": "c167c43b-9fe2-4744-9fd6-0a1ff54d03b4",
   "metadata": {},
   "source": [
    "# Load documents"
   ]
  },
  {
   "cell_type": "code",
   "execution_count": 19,
   "id": "df553993-0bfa-491c-920d-6c4df45c941d",
   "metadata": {},
   "outputs": [],
   "source": [
    "from llama_index.core import SimpleDirectoryReader"
   ]
  },
  {
   "cell_type": "code",
   "execution_count": null,
   "id": "366fa8cd-3e99-4a4b-a0ea-44c489307c9b",
   "metadata": {},
   "outputs": [],
   "source": [
    "\n",
    "documents = SimpleDirectoryReader(\"D:\\\\data science QT\\\\notes\\\\testingresumes\",recursive=True).load_data()"
   ]
  },
  {
   "cell_type": "markdown",
   "id": "3e2f608a-1b9d-4241-ac1c-6c26b73ef2ce",
   "metadata": {},
   "source": [
    "# Create a vector index"
   ]
  },
  {
   "cell_type": "code",
   "execution_count": 21,
   "id": "d402c3e2-b4df-4985-a079-4b574a38f372",
   "metadata": {},
   "outputs": [],
   "source": [
    "from llama_index.core import VectorStoreIndex"
   ]
  },
  {
   "cell_type": "code",
   "execution_count": 22,
   "id": "c261dabd-330c-40cd-88ff-73651e50b1bc",
   "metadata": {},
   "outputs": [],
   "source": [
    "index = VectorStoreIndex.from_documents(documents)"
   ]
  },
  {
   "cell_type": "markdown",
   "id": "1edeac00-dfa4-4c3b-b110-9395cec7b952",
   "metadata": {},
   "source": [
    "# create an engine"
   ]
  },
  {
   "cell_type": "code",
   "execution_count": 23,
   "id": "7b3cb004-8da7-45a7-9c7f-0668fd274670",
   "metadata": {},
   "outputs": [],
   "source": [
    "query_engine = index.as_query_engine(similarity_top_k=25)"
   ]
  },
  {
   "cell_type": "markdown",
   "id": "015b386b-3d6b-452f-a778-8993638cb567",
   "metadata": {},
   "source": [
    "# form a query and ask a query"
   ]
  },
  {
   "cell_type": "code",
   "execution_count": 24,
   "id": "4a83b6cf-8eac-438e-b5a4-d375a9bc24cb",
   "metadata": {},
   "outputs": [],
   "source": [
    "response = query_engine.query(\"provide me names all people in the list  \")\n"
   ]
  },
  {
   "cell_type": "code",
   "execution_count": 25,
   "id": "7466553f-64de-490a-b7f1-d5ebb6b94c9e",
   "metadata": {},
   "outputs": [
    {
     "data": {
      "text/plain": [
       "'Jahnavi Yarramsetty, Sowjanya Chirumala, Shylaja S, Ramya Mallela, Lakshmi Ganapathi Kavuru, Vineetha T, Shylaja Singaraveni, Siva Sevolla, Mounika Rudrarapu.'"
      ]
     },
     "execution_count": 25,
     "metadata": {},
     "output_type": "execute_result"
    }
   ],
   "source": [
    "response.response"
   ]
  },
  {
   "cell_type": "code",
   "execution_count": 26,
   "id": "04692bf2-6068-4e33-952e-15e1cef967c6",
   "metadata": {},
   "outputs": [],
   "source": [
    "response = query_engine.query(\"as a HR analyst, provide me technical skills in list provided\")"
   ]
  },
  {
   "cell_type": "code",
   "execution_count": 27,
   "id": "131ed414-d2c3-49ac-a103-19279173203d",
   "metadata": {},
   "outputs": [
    {
     "data": {
      "text/plain": [
       "'Technical Skills:\\n- Manual Testing\\n- Automation Testing\\n- Programming Language: Java\\n- Frameworks: Selenium WebDriver, TestNG, Cucumber, REST Assured\\n- Tools: Selenium, Postman, JIRA, Bugzilla, Git\\n- Version Control: Git & GitHub\\n- Test Management Tools: JIRA, Zephyr scale, AIO\\n- Agile Methodologies'"
      ]
     },
     "execution_count": 27,
     "metadata": {},
     "output_type": "execute_result"
    }
   ],
   "source": [
    "response.response "
   ]
  },
  {
   "cell_type": "code",
   "execution_count": 28,
   "id": "771497c6-c3a6-4ffb-ac75-8239c2dfd1a6",
   "metadata": {},
   "outputs": [
    {
     "name": "stdout",
     "output_type": "stream",
     "text": [
      "SSIET engineering college\n"
     ]
    }
   ],
   "source": [
    "response = query_engine.query(\"provide me college name of Ramya \")\n",
    "print(response.response)"
   ]
  },
  {
   "cell_type": "code",
   "execution_count": 31,
   "id": "60d59f18-ad76-418d-bda0-7c3b5496e7d3",
   "metadata": {},
   "outputs": [
    {
     "name": "stdout",
     "output_type": "stream",
     "text": [
      "{\n",
      "  \"Jahnavi Yarramsetty\": [\"SSIET Engineering College\", \"Maruthi Junior College\", \"ZPHS\"],\n",
      "  \"Ramya Mallela\": [\"SSIET Engineering College\", \"Maruthi Junior College\", \"ZPHS\"],\n",
      "  \"Shylaja S\": [\"Alphores Women’s Degree College\", \"Alphores Junior College\"],\n",
      "  \"Tulluri Vineetha\": [\"Dhanekula Institute of Engineering and Technology\", \"Kshtrayya Govt College\", \"S.L.S.V.VS.O(H) School\"],\n",
      "  \"Sowjanya\": [\"Pace Institute Of Technology & Sciences\", \"Sri Chaitanya Junior College\", \"St. Ann’s School\"],\n",
      "  \"Shylaja Singaraveni\": [\"Alphores Women’s Degree College\"],\n",
      "  \"Siva Sevolla\": [\"Sri Vaishnavi Degree College\", \"Govt Junior College\", \"ZPH School\"],\n",
      "  \"Mounika Rudrarapu\": [\"Kakatiya University\"],\n",
      "  \"Lakshmi Ganapathi Kavuru\": [\"Andhra University\"]\n",
      "}\n"
     ]
    }
   ],
   "source": [
    "response = query_engine.query(\"provide me college names of all people Json\")\n",
    "print(response.response)"
   ]
  },
  {
   "cell_type": "code",
   "execution_count": 30,
   "id": "19744c8f-da19-4a8f-ae5c-8a4d816fa6ca",
   "metadata": {},
   "outputs": [
    {
     "name": "stdout",
     "output_type": "stream",
     "text": [
      "Shylaja Singaraveni and Jahnavi Yarramsetty are individuals who have mentioned having Python programming skills in their resumes.\n"
     ]
    }
   ],
   "source": [
    "response = query_engine.query(\"provide me list of people who are having python programming skill\")\n",
    "print(response.response)"
   ]
  },
  {
   "cell_type": "code",
   "execution_count": null,
   "id": "fc0e9676-7d86-4d00-a783-19ca9b0eaaea",
   "metadata": {},
   "outputs": [],
   "source": []
  },
  {
   "cell_type": "code",
   "execution_count": null,
   "id": "05a9589a",
   "metadata": {},
   "outputs": [],
   "source": []
  }
 ],
 "metadata": {
  "kernelspec": {
   "display_name": "Python 3",
   "language": "python",
   "name": "python3"
  },
  "language_info": {
   "codemirror_mode": {
    "name": "ipython",
    "version": 3
   },
   "file_extension": ".py",
   "mimetype": "text/x-python",
   "name": "python",
   "nbconvert_exporter": "python",
   "pygments_lexer": "ipython3",
   "version": "3.11.9"
  }
 },
 "nbformat": 4,
 "nbformat_minor": 5
}
