{
 "cells": [
  {
   "cell_type": "markdown",
   "id": "d0cc7c18-cf21-45ff-95f6-433757266e98",
   "metadata": {},
   "source": [
    "# LLM Response evaluation using ROUGE SCORE"
   ]
  },
  {
   "cell_type": "code",
   "execution_count": 2,
   "id": "48bc48ea-f7db-4748-b6fa-aab7260fd928",
   "metadata": {},
   "outputs": [
    {
     "name": "stdout",
     "output_type": "stream",
     "text": [
      "Requirement already satisfied: rouge-score in d:\\apps\\qt\\lib\\site-packages (0.1.2)\n",
      "Requirement already satisfied: absl-py in d:\\apps\\qt\\lib\\site-packages (from rouge-score) (2.1.0)\n",
      "Requirement already satisfied: nltk in d:\\apps\\qt\\lib\\site-packages (from rouge-score) (3.9.1)\n",
      "Requirement already satisfied: numpy in d:\\apps\\qt\\lib\\site-packages (from rouge-score) (2.0.2)\n",
      "Requirement already satisfied: six>=1.14.0 in d:\\apps\\qt\\lib\\site-packages (from rouge-score) (1.17.0)\n",
      "Requirement already satisfied: click in d:\\apps\\qt\\lib\\site-packages (from nltk->rouge-score) (8.1.7)\n",
      "Requirement already satisfied: joblib in d:\\apps\\qt\\lib\\site-packages (from nltk->rouge-score) (1.4.2)\n",
      "Requirement already satisfied: regex>=2021.8.3 in d:\\apps\\qt\\lib\\site-packages (from nltk->rouge-score) (2024.11.6)\n",
      "Requirement already satisfied: tqdm in d:\\apps\\qt\\lib\\site-packages (from nltk->rouge-score) (4.67.1)\n",
      "Requirement already satisfied: colorama in c:\\users\\user\\appdata\\roaming\\python\\python311\\site-packages (from click->nltk->rouge-score) (0.4.6)\n"
     ]
    }
   ],
   "source": [
    "!pip install rouge-score"
   ]
  },
  {
   "cell_type": "markdown",
   "id": "c20d4b09-9744-4ef0-ad88-825186816d65",
   "metadata": {},
   "source": [
    "# Precision: Fraction of matched n-grams in the generated text.\n",
    "# Recall: Fraction of matched n-grams in the reference text.\n",
    "# F1-Score: Harmonic mean of precision and recall."
   ]
  },
  {
   "cell_type": "code",
   "execution_count": 3,
   "id": "88992128-f683-4969-842a-e4f725efa426",
   "metadata": {},
   "outputs": [
    {
     "name": "stdout",
     "output_type": "stream",
     "text": [
      "rouge1: Precision: 0.8182, Recall: 0.6923, F1: 0.7500\n",
      "rouge2: Precision: 0.7000, Recall: 0.5833, F1: 0.6364\n",
      "rouge3: Precision: 0.5556, Recall: 0.4545, F1: 0.5000\n",
      "rougeL: Precision: 0.8182, Recall: 0.6923, F1: 0.7500\n"
     ]
    }
   ],
   "source": [
    "from rouge_score import rouge_scorer\n",
    "\n",
    "# Reference and generated summaries\n",
    "reference = \"The cat sat on the mat, watching tom and jerry cartoon in television\"\n",
    "generated = \"The cat is sitting on the mat, watching tom and jerry\"\n",
    "\n",
    "# Initialize the ROUGE scorer\n",
    "#scorer = rouge_scorer.RougeScorer(['rouge1'], use_stemmer=True)\n",
    "#scorer = rouge_scorer.RougeScorer(['rouge1', 'rouge2'], use_stemmer=True)\n",
    "#scorer = rouge_scorer.RougeScorer(['rouge1', 'rouge2','rouge3'], use_stemmer=True)\n",
    "scorer = rouge_scorer.RougeScorer(['rouge1', 'rouge2','rouge3', 'rougeL'],use_stemmer=True)\n",
    "\n",
    "# Compute ROUGE scores\n",
    "scores = scorer.score(reference, generated)\n",
    "\n",
    "# Print results\n",
    "for rouge_type, score in scores.items():\n",
    "    print(f\"{rouge_type}: Precision: {score.precision:.4f}, Recall: {score.recall:.4f}, F1: {score.fmeasure:.4f}\")\n"
   ]
  },
  {
   "cell_type": "code",
   "execution_count": null,
   "id": "e63342e0-718f-4367-a8f2-00b742c15713",
   "metadata": {},
   "outputs": [],
   "source": []
  },
  {
   "cell_type": "code",
   "execution_count": null,
   "id": "b0f8814c-3ecc-49e5-8de4-d70dac3234e2",
   "metadata": {},
   "outputs": [],
   "source": []
  }
 ],
 "metadata": {
  "kernelspec": {
   "display_name": "Python 3",
   "language": "python",
   "name": "python3"
  },
  "language_info": {
   "codemirror_mode": {
    "name": "ipython",
    "version": 3
   },
   "file_extension": ".py",
   "mimetype": "text/x-python",
   "name": "python",
   "nbconvert_exporter": "python",
   "pygments_lexer": "ipython3",
   "version": "3.11.9"
  }
 },
 "nbformat": 4,
 "nbformat_minor": 5
}
